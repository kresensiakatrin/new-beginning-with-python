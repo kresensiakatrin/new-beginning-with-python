{
 "cells": [
  {
   "cell_type": "markdown",
   "metadata": {},
   "source": [
    "A. VARIABLE\n",
    "\n",
    "Variable is a placeholder for unknown numbers / expressions.\n",
    "\n",
    "In python, the format in making a variable will be - \n",
    "name_of_the_variable = value. For the example :"
   ]
  },
  {
   "cell_type": "code",
   "execution_count": 1,
   "metadata": {},
   "outputs": [],
   "source": [
    "x = 10"
   ]
  },
  {
   "cell_type": "markdown",
   "metadata": {},
   "source": [
    "\n",
    "B. DATA TYPES & CONVERSION"
   ]
  },
  {
   "cell_type": "markdown",
   "metadata": {},
   "source": [
    "Data Types\n",
    "\n",
    "Every quantity in the value can be distinguished into many types such as :"
   ]
  },
  {
   "cell_type": "markdown",
   "metadata": {},
   "source": [
    "1. Boolean"
   ]
  },
  {
   "cell_type": "code",
   "execution_count": 3,
   "metadata": {},
   "outputs": [],
   "source": [
    "x = True\n",
    "y = False"
   ]
  },
  {
   "cell_type": "markdown",
   "metadata": {},
   "source": [
    "states \"True\" value of 1 and \"False\" for value 0."
   ]
  },
  {
   "cell_type": "markdown",
   "metadata": {},
   "source": [
    "2. String"
   ]
  },
  {
   "cell_type": "code",
   "execution_count": 4,
   "metadata": {},
   "outputs": [],
   "source": [
    "z = \"Good Morning\""
   ]
  },
  {
   "cell_type": "markdown",
   "metadata": {},
   "source": [
    "states a character / sentence which can be letters / numbers (use quotation mark \"\" or '')."
   ]
  },
  {
   "cell_type": "markdown",
   "metadata": {},
   "source": [
    "3. Integer"
   ]
  },
  {
   "cell_type": "code",
   "execution_count": 5,
   "metadata": {},
   "outputs": [],
   "source": [
    "x = 35\n",
    "y = 100"
   ]
  },
  {
   "cell_type": "markdown",
   "metadata": {},
   "source": [
    "states an integer itself (Z)."
   ]
  },
  {
   "cell_type": "markdown",
   "metadata": {},
   "source": [
    "4. Float"
   ]
  },
  {
   "cell_type": "code",
   "execution_count": 7,
   "metadata": {},
   "outputs": [],
   "source": [
    "x = 3.14\n",
    "y = 0.99"
   ]
  },
  {
   "cell_type": "markdown",
   "metadata": {},
   "source": [
    "states a decimal number."
   ]
  },
  {
   "cell_type": "markdown",
   "metadata": {},
   "source": [
    "5. Complex"
   ]
  },
  {
   "cell_type": "code",
   "execution_count": 12,
   "metadata": {},
   "outputs": [],
   "source": [
    "x = 1 + 5j"
   ]
  },
  {
   "cell_type": "markdown",
   "metadata": {},
   "source": [
    "states a real and imaginer number."
   ]
  },
  {
   "cell_type": "markdown",
   "metadata": {},
   "source": [
    "6. List"
   ]
  },
  {
   "cell_type": "code",
   "execution_count": 13,
   "metadata": {},
   "outputs": [],
   "source": [
    "x = [\"xyz\", \"786\", \"2.23\"]"
   ]
  },
  {
   "cell_type": "markdown",
   "metadata": {},
   "source": [
    "contains several values that can comes from various data types & it is changeable."
   ]
  },
  {
   "cell_type": "markdown",
   "metadata": {},
   "source": [
    "7. Tuple"
   ]
  },
  {
   "cell_type": "code",
   "execution_count": 14,
   "metadata": {},
   "outputs": [],
   "source": [
    "x = (\"xyz\", \"786\", \"2.23\")"
   ]
  },
  {
   "cell_type": "markdown",
   "metadata": {},
   "source": [
    "same like a list, tuple contains several values that can comes from various data types. But it is not changeable."
   ]
  },
  {
   "cell_type": "markdown",
   "metadata": {},
   "source": [
    "8. Dictionary"
   ]
  },
  {
   "cell_type": "code",
   "execution_count": 16,
   "metadata": {},
   "outputs": [],
   "source": [
    "x = {\"nama\":\"adi\", \"id\": 2}"
   ]
  },
  {
   "cell_type": "markdown",
   "metadata": {},
   "source": [
    "contains value of various data types in the form of pointers and values."
   ]
  },
  {
   "cell_type": "markdown",
   "metadata": {},
   "source": [
    "Conversion\n",
    "\n",
    "Python defines conversion functions to directly convert one data type to another which is useful in programming.\n",
    "\n",
    "There are two types of conversion :"
   ]
  },
  {
   "cell_type": "markdown",
   "metadata": {},
   "source": [
    "1. Implicit\n",
    "\n",
    "In this type of conversion, python will automatically converts one data type to another without any user involvement."
   ]
  },
  {
   "cell_type": "code",
   "execution_count": 18,
   "metadata": {},
   "outputs": [
    {
     "name": "stdout",
     "output_type": "stream",
     "text": [
      "x is of type : <class 'int'>\n",
      "y is of type : <class 'float'>\n",
      "z is of type : <class 'float'>\n"
     ]
    }
   ],
   "source": [
    "x = 15\n",
    "print(\"x is of type :\",type(x))\n",
    "\n",
    "y = 12.4\n",
    "print(\"y is of type :\",type(y))\n",
    "\n",
    "z = x + y\n",
    "print(\"z is of type :\",type(z))"
   ]
  },
  {
   "cell_type": "markdown",
   "metadata": {},
   "source": [
    "2. Explicit\n",
    "\n",
    "In this type, user will manually change data type as per their requirement.\n",
    "\n",
    "For our example, we use :\n",
    "1) int(a,base) : This function converts any data type to integer. 'Base' specifies the base in which string is if the data type is string.\n",
    "\n",
    "2) float() : this function is used to convert any data type to a floationg point number."
   ]
  },
  {
   "cell_type": "code",
   "execution_count": 19,
   "metadata": {},
   "outputs": [
    {
     "name": "stdout",
     "output_type": "stream",
     "text": [
      "After converting to integer base 2: 18\n",
      "After converting to float: 10010.0\n"
     ]
    }
   ],
   "source": [
    "#defined the string value\n",
    "s = \"10010\"\n",
    "\n",
    "#convert string to integer base 2 then print\n",
    "c = int(s,2)\n",
    "print(\"After converting to integer base 2: \", end=\"\")\n",
    "print(c)\n",
    "\n",
    "#convert string to float then print\n",
    "e = float(s)\n",
    "print(\"After converting to float: \", end=\"\")\n",
    "print(e)"
   ]
  },
  {
   "cell_type": "markdown",
   "metadata": {},
   "source": [
    "For this conversion material, my source is from :\n",
    "https://www.geeksforgeeks.org/type-conversion-python/\n",
    "\n",
    "You can check it there to see the complete explanation!"
   ]
  }
 ],
 "metadata": {
  "kernelspec": {
   "display_name": "Python 3",
   "language": "python",
   "name": "python3"
  },
  "language_info": {
   "codemirror_mode": {
    "name": "ipython",
    "version": 3
   },
   "file_extension": ".py",
   "mimetype": "text/x-python",
   "name": "python",
   "nbconvert_exporter": "python",
   "pygments_lexer": "ipython3",
   "version": "3.8.5"
  }
 },
 "nbformat": 4,
 "nbformat_minor": 4
}
