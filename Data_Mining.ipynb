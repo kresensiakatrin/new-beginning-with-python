{
  "nbformat": 4,
  "nbformat_minor": 0,
  "metadata": {
    "colab": {
      "name": "Data Mining.ipynb",
      "provenance": [],
      "collapsed_sections": [],
      "include_colab_link": true
    },
    "kernelspec": {
      "name": "python3",
      "display_name": "Python 3"
    },
    "language_info": {
      "name": "python"
    }
  },
  "cells": [
    {
      "cell_type": "markdown",
      "metadata": {
        "id": "view-in-github",
        "colab_type": "text"
      },
      "source": [
        "<a href=\"https://colab.research.google.com/github/kresensiakatrin/new-beginning-with-python/blob/main/Data_Mining.ipynb\" target=\"_parent\"><img src=\"https://colab.research.google.com/assets/colab-badge.svg\" alt=\"Open In Colab\"/></a>"
      ]
    },
    {
      "cell_type": "markdown",
      "metadata": {
        "id": "pVdhbT1CK7cU"
      },
      "source": [
        "**TUGAS 1 Data Mining**"
      ]
    },
    {
      "cell_type": "markdown",
      "metadata": {
        "id": "TOzCVgKCLVk8"
      },
      "source": [
        "**Data: ASHARE - Great Energy Predictor III**"
      ]
    },
    {
      "cell_type": "markdown",
      "metadata": {
        "id": "inqqGqneLari"
      },
      "source": [
        "**KELOMPOK G**\n",
        "Anggota:\n",
        "1. Adib Hanafi (1806186976)\n",
        "2. Annisa Yuni Safira (1806193571)\n",
        "3. Gabriela Patricia Winny Gracia (1806193590)\n",
        "4. Kresensia Katrin Rianty (1806193376)\n",
        "5. Muhammad Yunus (1806232130)\n",
        "6. Natasha Latifatu Soliha (1806193395)\n",
        "7. Rosalinda (1806193514)\n",
        "8. Siti Maulida Suroyya (1806147621)\n"
      ]
    },
    {
      "cell_type": "markdown",
      "metadata": {
        "id": "hvomM1VdiF4c"
      },
      "source": [
        "Tugas 1 ini bertujuan untuk melakukan Exploratory Data Analysis (EDA). EDA yang dilakukan dalam tugas ini meliputi data preprocessing, penghitungan nilai statistik dasar, dan juga visualisasi data."
      ]
    },
    {
      "cell_type": "code",
      "metadata": {
        "id": "wFY9YtOJd5us"
      },
      "source": [
        "#import library\n",
        "import pandas as pd\n",
        "import numpy as np\n",
        "import matplotlib.pyplot as plt\n",
        "%matplotlib inline"
      ],
      "execution_count": null,
      "outputs": []
    },
    {
      "cell_type": "code",
      "metadata": {
        "colab": {
          "base_uri": "https://localhost:8080/"
        },
        "id": "f-a67XXjAYyw",
        "outputId": "a9a86b6a-6490-4881-8d1c-d3e6927dcbee"
      },
      "source": [
        "#Mengambil data melalui Google Drive\n",
        "#Data dapat diakses melalui link https://bit.ly/DataASHRAE , lalu buat shortcut ke My Drive\n",
        "from google.colab import drive\n",
        "drive.mount('/content/drive')"
      ],
      "execution_count": null,
      "outputs": [
        {
          "output_type": "stream",
          "name": "stdout",
          "text": [
            "Drive already mounted at /content/drive; to attempt to forcibly remount, call drive.mount(\"/content/drive\", force_remount=True).\n"
          ]
        }
      ]
    },
    {
      "cell_type": "code",
      "metadata": {
        "colab": {
          "base_uri": "https://localhost:8080/",
          "height": 419
        },
        "id": "CVCqdq3br75E",
        "outputId": "00019074-ba9a-4766-c352-aeb5fecf03cf"
      },
      "source": [
        "#Data Gedung\n",
        "df_gedung = pd.read_csv('/content/drive/MyDrive/Data Mining/building_metadata.csv', error_bad_lines=False, low_memory = False)\n",
        "df_gedung"
      ],
      "execution_count": null,
      "outputs": [
        {
          "output_type": "execute_result",
          "data": {
            "text/html": [
              "<div>\n",
              "<style scoped>\n",
              "    .dataframe tbody tr th:only-of-type {\n",
              "        vertical-align: middle;\n",
              "    }\n",
              "\n",
              "    .dataframe tbody tr th {\n",
              "        vertical-align: top;\n",
              "    }\n",
              "\n",
              "    .dataframe thead th {\n",
              "        text-align: right;\n",
              "    }\n",
              "</style>\n",
              "<table border=\"1\" class=\"dataframe\">\n",
              "  <thead>\n",
              "    <tr style=\"text-align: right;\">\n",
              "      <th></th>\n",
              "      <th>site_id</th>\n",
              "      <th>building_id</th>\n",
              "      <th>primary_use</th>\n",
              "      <th>square_feet</th>\n",
              "      <th>year_built</th>\n",
              "      <th>floor_count</th>\n",
              "    </tr>\n",
              "  </thead>\n",
              "  <tbody>\n",
              "    <tr>\n",
              "      <th>0</th>\n",
              "      <td>0</td>\n",
              "      <td>0</td>\n",
              "      <td>Education</td>\n",
              "      <td>7432</td>\n",
              "      <td>2008.0</td>\n",
              "      <td>NaN</td>\n",
              "    </tr>\n",
              "    <tr>\n",
              "      <th>1</th>\n",
              "      <td>0</td>\n",
              "      <td>1</td>\n",
              "      <td>Education</td>\n",
              "      <td>2720</td>\n",
              "      <td>2004.0</td>\n",
              "      <td>NaN</td>\n",
              "    </tr>\n",
              "    <tr>\n",
              "      <th>2</th>\n",
              "      <td>0</td>\n",
              "      <td>2</td>\n",
              "      <td>Education</td>\n",
              "      <td>5376</td>\n",
              "      <td>1991.0</td>\n",
              "      <td>NaN</td>\n",
              "    </tr>\n",
              "    <tr>\n",
              "      <th>3</th>\n",
              "      <td>0</td>\n",
              "      <td>3</td>\n",
              "      <td>Education</td>\n",
              "      <td>23685</td>\n",
              "      <td>2002.0</td>\n",
              "      <td>NaN</td>\n",
              "    </tr>\n",
              "    <tr>\n",
              "      <th>4</th>\n",
              "      <td>0</td>\n",
              "      <td>4</td>\n",
              "      <td>Education</td>\n",
              "      <td>116607</td>\n",
              "      <td>1975.0</td>\n",
              "      <td>NaN</td>\n",
              "    </tr>\n",
              "    <tr>\n",
              "      <th>...</th>\n",
              "      <td>...</td>\n",
              "      <td>...</td>\n",
              "      <td>...</td>\n",
              "      <td>...</td>\n",
              "      <td>...</td>\n",
              "      <td>...</td>\n",
              "    </tr>\n",
              "    <tr>\n",
              "      <th>1444</th>\n",
              "      <td>15</td>\n",
              "      <td>1444</td>\n",
              "      <td>Entertainment/public assembly</td>\n",
              "      <td>19619</td>\n",
              "      <td>1914.0</td>\n",
              "      <td>NaN</td>\n",
              "    </tr>\n",
              "    <tr>\n",
              "      <th>1445</th>\n",
              "      <td>15</td>\n",
              "      <td>1445</td>\n",
              "      <td>Education</td>\n",
              "      <td>4298</td>\n",
              "      <td>NaN</td>\n",
              "      <td>NaN</td>\n",
              "    </tr>\n",
              "    <tr>\n",
              "      <th>1446</th>\n",
              "      <td>15</td>\n",
              "      <td>1446</td>\n",
              "      <td>Entertainment/public assembly</td>\n",
              "      <td>11265</td>\n",
              "      <td>1997.0</td>\n",
              "      <td>NaN</td>\n",
              "    </tr>\n",
              "    <tr>\n",
              "      <th>1447</th>\n",
              "      <td>15</td>\n",
              "      <td>1447</td>\n",
              "      <td>Lodging/residential</td>\n",
              "      <td>29775</td>\n",
              "      <td>2001.0</td>\n",
              "      <td>NaN</td>\n",
              "    </tr>\n",
              "    <tr>\n",
              "      <th>1448</th>\n",
              "      <td>15</td>\n",
              "      <td>1448</td>\n",
              "      <td>Office</td>\n",
              "      <td>92271</td>\n",
              "      <td>2001.0</td>\n",
              "      <td>NaN</td>\n",
              "    </tr>\n",
              "  </tbody>\n",
              "</table>\n",
              "<p>1449 rows × 6 columns</p>\n",
              "</div>"
            ],
            "text/plain": [
              "      site_id  building_id  ... year_built  floor_count\n",
              "0           0            0  ...     2008.0          NaN\n",
              "1           0            1  ...     2004.0          NaN\n",
              "2           0            2  ...     1991.0          NaN\n",
              "3           0            3  ...     2002.0          NaN\n",
              "4           0            4  ...     1975.0          NaN\n",
              "...       ...          ...  ...        ...          ...\n",
              "1444       15         1444  ...     1914.0          NaN\n",
              "1445       15         1445  ...        NaN          NaN\n",
              "1446       15         1446  ...     1997.0          NaN\n",
              "1447       15         1447  ...     2001.0          NaN\n",
              "1448       15         1448  ...     2001.0          NaN\n",
              "\n",
              "[1449 rows x 6 columns]"
            ]
          },
          "metadata": {},
          "execution_count": 90
        }
      ]
    },
    {
      "cell_type": "code",
      "metadata": {
        "colab": {
          "base_uri": "https://localhost:8080/",
          "height": 419
        },
        "id": "wq4h-lnGek37",
        "outputId": "b3593d37-bf40-4d71-d66c-5919374133f0"
      },
      "source": [
        "#Data Cuaca\n",
        "df_cuaca = pd.read_csv('/content/drive/MyDrive/Data Mining/weather_train.csv')\n",
        "df_cuaca"
      ],
      "execution_count": null,
      "outputs": [
        {
          "output_type": "execute_result",
          "data": {
            "text/html": [
              "<div>\n",
              "<style scoped>\n",
              "    .dataframe tbody tr th:only-of-type {\n",
              "        vertical-align: middle;\n",
              "    }\n",
              "\n",
              "    .dataframe tbody tr th {\n",
              "        vertical-align: top;\n",
              "    }\n",
              "\n",
              "    .dataframe thead th {\n",
              "        text-align: right;\n",
              "    }\n",
              "</style>\n",
              "<table border=\"1\" class=\"dataframe\">\n",
              "  <thead>\n",
              "    <tr style=\"text-align: right;\">\n",
              "      <th></th>\n",
              "      <th>site_id</th>\n",
              "      <th>timestamp</th>\n",
              "      <th>air_temperature</th>\n",
              "      <th>cloud_coverage</th>\n",
              "      <th>dew_temperature</th>\n",
              "      <th>precip_depth_1_hr</th>\n",
              "      <th>sea_level_pressure</th>\n",
              "      <th>wind_direction</th>\n",
              "      <th>wind_speed</th>\n",
              "    </tr>\n",
              "  </thead>\n",
              "  <tbody>\n",
              "    <tr>\n",
              "      <th>0</th>\n",
              "      <td>0</td>\n",
              "      <td>2016-01-01 00:00:00</td>\n",
              "      <td>25.0</td>\n",
              "      <td>6.0</td>\n",
              "      <td>20.0</td>\n",
              "      <td>NaN</td>\n",
              "      <td>1019.7</td>\n",
              "      <td>0.0</td>\n",
              "      <td>0.0</td>\n",
              "    </tr>\n",
              "    <tr>\n",
              "      <th>1</th>\n",
              "      <td>0</td>\n",
              "      <td>2016-01-01 01:00:00</td>\n",
              "      <td>24.4</td>\n",
              "      <td>NaN</td>\n",
              "      <td>21.1</td>\n",
              "      <td>-1.0</td>\n",
              "      <td>1020.2</td>\n",
              "      <td>70.0</td>\n",
              "      <td>1.5</td>\n",
              "    </tr>\n",
              "    <tr>\n",
              "      <th>2</th>\n",
              "      <td>0</td>\n",
              "      <td>2016-01-01 02:00:00</td>\n",
              "      <td>22.8</td>\n",
              "      <td>2.0</td>\n",
              "      <td>21.1</td>\n",
              "      <td>0.0</td>\n",
              "      <td>1020.2</td>\n",
              "      <td>0.0</td>\n",
              "      <td>0.0</td>\n",
              "    </tr>\n",
              "    <tr>\n",
              "      <th>3</th>\n",
              "      <td>0</td>\n",
              "      <td>2016-01-01 03:00:00</td>\n",
              "      <td>21.1</td>\n",
              "      <td>2.0</td>\n",
              "      <td>20.6</td>\n",
              "      <td>0.0</td>\n",
              "      <td>1020.1</td>\n",
              "      <td>0.0</td>\n",
              "      <td>0.0</td>\n",
              "    </tr>\n",
              "    <tr>\n",
              "      <th>4</th>\n",
              "      <td>0</td>\n",
              "      <td>2016-01-01 04:00:00</td>\n",
              "      <td>20.0</td>\n",
              "      <td>2.0</td>\n",
              "      <td>20.0</td>\n",
              "      <td>-1.0</td>\n",
              "      <td>1020.0</td>\n",
              "      <td>250.0</td>\n",
              "      <td>2.6</td>\n",
              "    </tr>\n",
              "    <tr>\n",
              "      <th>...</th>\n",
              "      <td>...</td>\n",
              "      <td>...</td>\n",
              "      <td>...</td>\n",
              "      <td>...</td>\n",
              "      <td>...</td>\n",
              "      <td>...</td>\n",
              "      <td>...</td>\n",
              "      <td>...</td>\n",
              "      <td>...</td>\n",
              "    </tr>\n",
              "    <tr>\n",
              "      <th>139768</th>\n",
              "      <td>15</td>\n",
              "      <td>2016-12-31 19:00:00</td>\n",
              "      <td>3.0</td>\n",
              "      <td>NaN</td>\n",
              "      <td>-8.0</td>\n",
              "      <td>NaN</td>\n",
              "      <td>NaN</td>\n",
              "      <td>180.0</td>\n",
              "      <td>5.7</td>\n",
              "    </tr>\n",
              "    <tr>\n",
              "      <th>139769</th>\n",
              "      <td>15</td>\n",
              "      <td>2016-12-31 20:00:00</td>\n",
              "      <td>2.8</td>\n",
              "      <td>2.0</td>\n",
              "      <td>-8.9</td>\n",
              "      <td>NaN</td>\n",
              "      <td>1007.4</td>\n",
              "      <td>180.0</td>\n",
              "      <td>7.7</td>\n",
              "    </tr>\n",
              "    <tr>\n",
              "      <th>139770</th>\n",
              "      <td>15</td>\n",
              "      <td>2016-12-31 21:00:00</td>\n",
              "      <td>2.8</td>\n",
              "      <td>NaN</td>\n",
              "      <td>-7.2</td>\n",
              "      <td>NaN</td>\n",
              "      <td>1007.5</td>\n",
              "      <td>180.0</td>\n",
              "      <td>5.1</td>\n",
              "    </tr>\n",
              "    <tr>\n",
              "      <th>139771</th>\n",
              "      <td>15</td>\n",
              "      <td>2016-12-31 22:00:00</td>\n",
              "      <td>2.2</td>\n",
              "      <td>NaN</td>\n",
              "      <td>-6.7</td>\n",
              "      <td>NaN</td>\n",
              "      <td>1008.0</td>\n",
              "      <td>170.0</td>\n",
              "      <td>4.6</td>\n",
              "    </tr>\n",
              "    <tr>\n",
              "      <th>139772</th>\n",
              "      <td>15</td>\n",
              "      <td>2016-12-31 23:00:00</td>\n",
              "      <td>1.7</td>\n",
              "      <td>NaN</td>\n",
              "      <td>-5.6</td>\n",
              "      <td>-1.0</td>\n",
              "      <td>1008.5</td>\n",
              "      <td>180.0</td>\n",
              "      <td>8.8</td>\n",
              "    </tr>\n",
              "  </tbody>\n",
              "</table>\n",
              "<p>139773 rows × 9 columns</p>\n",
              "</div>"
            ],
            "text/plain": [
              "        site_id            timestamp  ...  wind_direction  wind_speed\n",
              "0             0  2016-01-01 00:00:00  ...             0.0         0.0\n",
              "1             0  2016-01-01 01:00:00  ...            70.0         1.5\n",
              "2             0  2016-01-01 02:00:00  ...             0.0         0.0\n",
              "3             0  2016-01-01 03:00:00  ...             0.0         0.0\n",
              "4             0  2016-01-01 04:00:00  ...           250.0         2.6\n",
              "...         ...                  ...  ...             ...         ...\n",
              "139768       15  2016-12-31 19:00:00  ...           180.0         5.7\n",
              "139769       15  2016-12-31 20:00:00  ...           180.0         7.7\n",
              "139770       15  2016-12-31 21:00:00  ...           180.0         5.1\n",
              "139771       15  2016-12-31 22:00:00  ...           170.0         4.6\n",
              "139772       15  2016-12-31 23:00:00  ...           180.0         8.8\n",
              "\n",
              "[139773 rows x 9 columns]"
            ]
          },
          "metadata": {},
          "execution_count": 91
        }
      ]
    },
    {
      "cell_type": "code",
      "metadata": {
        "id": "eUP8km4MOEPw",
        "colab": {
          "base_uri": "https://localhost:8080/",
          "height": 419
        },
        "outputId": "8f5cd260-135b-45b6-c32a-9961c1f0c7cb"
      },
      "source": [
        "#Data Energi Gedung\n",
        "df_en = pd.read_csv('/content/drive/MyDrive/Data Mining/train.csv', error_bad_lines=False, low_memory = False)\n",
        "df_en"
      ],
      "execution_count": null,
      "outputs": [
        {
          "output_type": "execute_result",
          "data": {
            "text/html": [
              "<div>\n",
              "<style scoped>\n",
              "    .dataframe tbody tr th:only-of-type {\n",
              "        vertical-align: middle;\n",
              "    }\n",
              "\n",
              "    .dataframe tbody tr th {\n",
              "        vertical-align: top;\n",
              "    }\n",
              "\n",
              "    .dataframe thead th {\n",
              "        text-align: right;\n",
              "    }\n",
              "</style>\n",
              "<table border=\"1\" class=\"dataframe\">\n",
              "  <thead>\n",
              "    <tr style=\"text-align: right;\">\n",
              "      <th></th>\n",
              "      <th>building_id</th>\n",
              "      <th>meter</th>\n",
              "      <th>timestamp</th>\n",
              "      <th>meter_reading</th>\n",
              "    </tr>\n",
              "  </thead>\n",
              "  <tbody>\n",
              "    <tr>\n",
              "      <th>0</th>\n",
              "      <td>0</td>\n",
              "      <td>0</td>\n",
              "      <td>2016-01-01 00:00:00</td>\n",
              "      <td>0.000</td>\n",
              "    </tr>\n",
              "    <tr>\n",
              "      <th>1</th>\n",
              "      <td>1</td>\n",
              "      <td>0</td>\n",
              "      <td>2016-01-01 00:00:00</td>\n",
              "      <td>0.000</td>\n",
              "    </tr>\n",
              "    <tr>\n",
              "      <th>2</th>\n",
              "      <td>2</td>\n",
              "      <td>0</td>\n",
              "      <td>2016-01-01 00:00:00</td>\n",
              "      <td>0.000</td>\n",
              "    </tr>\n",
              "    <tr>\n",
              "      <th>3</th>\n",
              "      <td>3</td>\n",
              "      <td>0</td>\n",
              "      <td>2016-01-01 00:00:00</td>\n",
              "      <td>0.000</td>\n",
              "    </tr>\n",
              "    <tr>\n",
              "      <th>4</th>\n",
              "      <td>4</td>\n",
              "      <td>0</td>\n",
              "      <td>2016-01-01 00:00:00</td>\n",
              "      <td>0.000</td>\n",
              "    </tr>\n",
              "    <tr>\n",
              "      <th>...</th>\n",
              "      <td>...</td>\n",
              "      <td>...</td>\n",
              "      <td>...</td>\n",
              "      <td>...</td>\n",
              "    </tr>\n",
              "    <tr>\n",
              "      <th>20216095</th>\n",
              "      <td>1444</td>\n",
              "      <td>0</td>\n",
              "      <td>2016-12-31 23:00:00</td>\n",
              "      <td>8.750</td>\n",
              "    </tr>\n",
              "    <tr>\n",
              "      <th>20216096</th>\n",
              "      <td>1445</td>\n",
              "      <td>0</td>\n",
              "      <td>2016-12-31 23:00:00</td>\n",
              "      <td>4.825</td>\n",
              "    </tr>\n",
              "    <tr>\n",
              "      <th>20216097</th>\n",
              "      <td>1446</td>\n",
              "      <td>0</td>\n",
              "      <td>2016-12-31 23:00:00</td>\n",
              "      <td>0.000</td>\n",
              "    </tr>\n",
              "    <tr>\n",
              "      <th>20216098</th>\n",
              "      <td>1447</td>\n",
              "      <td>0</td>\n",
              "      <td>2016-12-31 23:00:00</td>\n",
              "      <td>159.575</td>\n",
              "    </tr>\n",
              "    <tr>\n",
              "      <th>20216099</th>\n",
              "      <td>1448</td>\n",
              "      <td>0</td>\n",
              "      <td>2016-12-31 23:00:00</td>\n",
              "      <td>2.850</td>\n",
              "    </tr>\n",
              "  </tbody>\n",
              "</table>\n",
              "<p>20216100 rows × 4 columns</p>\n",
              "</div>"
            ],
            "text/plain": [
              "          building_id  meter            timestamp  meter_reading\n",
              "0                   0      0  2016-01-01 00:00:00          0.000\n",
              "1                   1      0  2016-01-01 00:00:00          0.000\n",
              "2                   2      0  2016-01-01 00:00:00          0.000\n",
              "3                   3      0  2016-01-01 00:00:00          0.000\n",
              "4                   4      0  2016-01-01 00:00:00          0.000\n",
              "...               ...    ...                  ...            ...\n",
              "20216095         1444      0  2016-12-31 23:00:00          8.750\n",
              "20216096         1445      0  2016-12-31 23:00:00          4.825\n",
              "20216097         1446      0  2016-12-31 23:00:00          0.000\n",
              "20216098         1447      0  2016-12-31 23:00:00        159.575\n",
              "20216099         1448      0  2016-12-31 23:00:00          2.850\n",
              "\n",
              "[20216100 rows x 4 columns]"
            ]
          },
          "metadata": {},
          "execution_count": 92
        }
      ]
    },
    {
      "cell_type": "code",
      "metadata": {
        "id": "Nt7aujZfjdlL"
      },
      "source": [
        "#import library tambahan\n",
        "import warnings; warnings.simplefilter('ignore')\n",
        "import pandas as pd, matplotlib.pyplot as plt, seaborn as sns, numpy as np\n",
        "import datetime\n",
        "import calendar\n",
        "import matplotlib.cm as cm\n",
        "import calendar, folium\n",
        "from folium.plugins import HeatMap\n",
        "from collections import Counter\n",
        "from statsmodels.graphics.mosaicplot import mosaic\n",
        "plt.style.use('bmh'); sns.set()"
      ],
      "execution_count": null,
      "outputs": []
    },
    {
      "cell_type": "markdown",
      "metadata": {
        "id": "l88sQnR1kmzM"
      },
      "source": [
        "**Joining Dataset**"
      ]
    },
    {
      "cell_type": "code",
      "metadata": {
        "id": "ZVjha9gcjkbK"
      },
      "source": [
        "df_en_gedung = pd.merge(df_en, df_gedung, how='left', left_on=['building_id'], right_on=['building_id'])"
      ],
      "execution_count": null,
      "outputs": []
    },
    {
      "cell_type": "code",
      "metadata": {
        "colab": {
          "base_uri": "https://localhost:8080/",
          "height": 204
        },
        "id": "aEa2gqFylYW-",
        "outputId": "30f1cd05-99db-4e7e-f000-d70a1b80c2b4"
      },
      "source": [
        "df_en_gedung.tail()"
      ],
      "execution_count": null,
      "outputs": [
        {
          "output_type": "execute_result",
          "data": {
            "text/html": [
              "<div>\n",
              "<style scoped>\n",
              "    .dataframe tbody tr th:only-of-type {\n",
              "        vertical-align: middle;\n",
              "    }\n",
              "\n",
              "    .dataframe tbody tr th {\n",
              "        vertical-align: top;\n",
              "    }\n",
              "\n",
              "    .dataframe thead th {\n",
              "        text-align: right;\n",
              "    }\n",
              "</style>\n",
              "<table border=\"1\" class=\"dataframe\">\n",
              "  <thead>\n",
              "    <tr style=\"text-align: right;\">\n",
              "      <th></th>\n",
              "      <th>building_id</th>\n",
              "      <th>meter</th>\n",
              "      <th>timestamp</th>\n",
              "      <th>meter_reading</th>\n",
              "      <th>site_id</th>\n",
              "      <th>primary_use</th>\n",
              "      <th>square_feet</th>\n",
              "      <th>year_built</th>\n",
              "      <th>floor_count</th>\n",
              "    </tr>\n",
              "  </thead>\n",
              "  <tbody>\n",
              "    <tr>\n",
              "      <th>20216095</th>\n",
              "      <td>1444</td>\n",
              "      <td>0</td>\n",
              "      <td>2016-12-31 23:00:00</td>\n",
              "      <td>8.750</td>\n",
              "      <td>15</td>\n",
              "      <td>Entertainment/public assembly</td>\n",
              "      <td>19619</td>\n",
              "      <td>1914.0</td>\n",
              "      <td>NaN</td>\n",
              "    </tr>\n",
              "    <tr>\n",
              "      <th>20216096</th>\n",
              "      <td>1445</td>\n",
              "      <td>0</td>\n",
              "      <td>2016-12-31 23:00:00</td>\n",
              "      <td>4.825</td>\n",
              "      <td>15</td>\n",
              "      <td>Education</td>\n",
              "      <td>4298</td>\n",
              "      <td>NaN</td>\n",
              "      <td>NaN</td>\n",
              "    </tr>\n",
              "    <tr>\n",
              "      <th>20216097</th>\n",
              "      <td>1446</td>\n",
              "      <td>0</td>\n",
              "      <td>2016-12-31 23:00:00</td>\n",
              "      <td>0.000</td>\n",
              "      <td>15</td>\n",
              "      <td>Entertainment/public assembly</td>\n",
              "      <td>11265</td>\n",
              "      <td>1997.0</td>\n",
              "      <td>NaN</td>\n",
              "    </tr>\n",
              "    <tr>\n",
              "      <th>20216098</th>\n",
              "      <td>1447</td>\n",
              "      <td>0</td>\n",
              "      <td>2016-12-31 23:00:00</td>\n",
              "      <td>159.575</td>\n",
              "      <td>15</td>\n",
              "      <td>Lodging/residential</td>\n",
              "      <td>29775</td>\n",
              "      <td>2001.0</td>\n",
              "      <td>NaN</td>\n",
              "    </tr>\n",
              "    <tr>\n",
              "      <th>20216099</th>\n",
              "      <td>1448</td>\n",
              "      <td>0</td>\n",
              "      <td>2016-12-31 23:00:00</td>\n",
              "      <td>2.850</td>\n",
              "      <td>15</td>\n",
              "      <td>Office</td>\n",
              "      <td>92271</td>\n",
              "      <td>2001.0</td>\n",
              "      <td>NaN</td>\n",
              "    </tr>\n",
              "  </tbody>\n",
              "</table>\n",
              "</div>"
            ],
            "text/plain": [
              "          building_id  meter  ... year_built  floor_count\n",
              "20216095         1444      0  ...     1914.0          NaN\n",
              "20216096         1445      0  ...        NaN          NaN\n",
              "20216097         1446      0  ...     1997.0          NaN\n",
              "20216098         1447      0  ...     2001.0          NaN\n",
              "20216099         1448      0  ...     2001.0          NaN\n",
              "\n",
              "[5 rows x 9 columns]"
            ]
          },
          "metadata": {},
          "execution_count": 95
        }
      ]
    },
    {
      "cell_type": "code",
      "metadata": {
        "id": "1fWaWNzclc6J"
      },
      "source": [
        "df = pd.merge(df_en_gedung, df_cuaca, how='left', left_on=['site_id', 'timestamp'], right_on=['site_id', 'timestamp'])"
      ],
      "execution_count": null,
      "outputs": []
    },
    {
      "cell_type": "markdown",
      "metadata": {
        "id": "YUHkuQfekqC7"
      },
      "source": [
        "**Screening Data**"
      ]
    },
    {
      "cell_type": "code",
      "metadata": {
        "id": "Ikv9Be02meVq"
      },
      "source": [
        "df.tail()"
      ],
      "execution_count": null,
      "outputs": []
    },
    {
      "cell_type": "code",
      "metadata": {
        "id": "kGzHucgPmiUo"
      },
      "source": [
        "#cek tipe data setiap variabel\n",
        "df.dtypes"
      ],
      "execution_count": null,
      "outputs": []
    },
    {
      "cell_type": "code",
      "metadata": {
        "id": "f-QJlx6pmxrP"
      },
      "source": [
        "#transpose data\n",
        "df.head(10).transpose()"
      ],
      "execution_count": null,
      "outputs": []
    },
    {
      "cell_type": "markdown",
      "metadata": {
        "id": "zFnNFzygCSe4"
      },
      "source": [
        "**Data Preporcessing**"
      ]
    },
    {
      "cell_type": "code",
      "metadata": {
        "id": "tLqbiN8dUSZa"
      },
      "source": [
        "#memecah variabel timestamp\n",
        "df['timestamp'] = pd.to_datetime(df['timestamp'])\n",
        "df['hour'] = np.uint8(df['timestamp'].dt.hour)\n",
        "df['day'] = df['timestamp'].dt.weekday\n",
        "df['month'] = np.uint8(df['timestamp'].dt.month)"
      ],
      "execution_count": null,
      "outputs": []
    },
    {
      "cell_type": "code",
      "metadata": {
        "id": "7eIuxE_vDBja"
      },
      "source": [
        "df.info()"
      ],
      "execution_count": null,
      "outputs": []
    },
    {
      "cell_type": "code",
      "metadata": {
        "id": "lms05TjtR4sh"
      },
      "source": [
        "#mengoreksi tipe data\n",
        "df['building_id'] = df['building_id'].astype('category')\n",
        "df['meter'] = df['meter'].astype('category')\n",
        "df['site_id'] = df['site_id'].astype('category')\n",
        "df['primary_use'] = df['primary_use'].astype('category')\n",
        "df['year_built'] = df['year_built'].astype('category')\n",
        "df['hour'] = df['hour'].astype('category')\n",
        "df['day'] = df['day'].astype('category')\n",
        "df['month'] = df['month'].astype('category')"
      ],
      "execution_count": null,
      "outputs": []
    },
    {
      "cell_type": "code",
      "metadata": {
        "id": "TFUXp0jASEzZ"
      },
      "source": [
        "#membuat kategori untuk variabel day\n",
        "day_ = {0:\"Senin\", 1:\"Selasa\", 2:\"Rabu\", 3:\"Kamis\", 4:\"Jumat\", 5:\"Sabtu\", 6:\"Minggu\"}\n",
        "df['day'] = [day_[i] for i in df['day']]"
      ],
      "execution_count": null,
      "outputs": []
    },
    {
      "cell_type": "code",
      "metadata": {
        "id": "ItMXWJ_fHLST"
      },
      "source": [
        "#membuat kategori untuk variabel meter\n",
        "meter_ = {0:\"electricity\", 1:\"chilledwater\", 2:\"steam\", 3:\"hotwater\"}\n",
        "df['meter'] = [meter_[i] for i in df['meter']]"
      ],
      "execution_count": null,
      "outputs": []
    },
    {
      "cell_type": "code",
      "metadata": {
        "id": "59Gm0i-nF44_"
      },
      "source": [
        "df.dtypes"
      ],
      "execution_count": null,
      "outputs": []
    },
    {
      "cell_type": "code",
      "metadata": {
        "id": "tUnITg1LF7Fx"
      },
      "source": [
        "#statistik deskriptif setiap variabel numerik\n",
        "df.describe()"
      ],
      "execution_count": null,
      "outputs": []
    },
    {
      "cell_type": "markdown",
      "metadata": {
        "id": "sBp1YKslKfWN"
      },
      "source": [
        "**MISSING VALUE**"
      ]
    },
    {
      "cell_type": "code",
      "metadata": {
        "id": "yQxbe8nSGr4B"
      },
      "source": [
        "#Memeriksa Missing Value\n",
        "df.isnull().sum()"
      ],
      "execution_count": null,
      "outputs": []
    },
    {
      "cell_type": "code",
      "metadata": {
        "id": "zaYDCNveM4Zw"
      },
      "source": [
        "#persentase missing values\n",
        "for i in df:\n",
        "    print(i,': ',round(df[i].isnull().sum()/len(df)*100,2), '%')"
      ],
      "execution_count": null,
      "outputs": []
    },
    {
      "cell_type": "code",
      "metadata": {
        "id": "eOAeuvlRNBqk"
      },
      "source": [
        "#Drop kolom year_built, floor_count, dan cloud coverage, dikarenakan persentase missing values mendekati atau bahkan melampaui 50% dari data\n",
        "df = df.drop(['year_built', 'floor_count', 'cloud_coverage'], axis=1)"
      ],
      "execution_count": null,
      "outputs": []
    },
    {
      "cell_type": "code",
      "metadata": {
        "id": "-eo0Il0wuYPa"
      },
      "source": [
        "#cek distribusi variabel 'percip_depth_1_hr'\n",
        "print(df['precip_depth_1_hr'].describe())\n",
        "df['precip_depth_1_hr'].hist()"
      ],
      "execution_count": null,
      "outputs": []
    },
    {
      "cell_type": "markdown",
      "metadata": {
        "id": "fF7ydWYwl0Q9"
      },
      "source": [
        "Dari histogram terlihat bahwa seluruh nilai dari variabel 'percip_Depth_1_hr' terletak di interval [0,50)."
      ]
    },
    {
      "cell_type": "code",
      "metadata": {
        "id": "UgX5s9XmwGAw"
      },
      "source": [
        "#cek distribusi variabel 'sea_level_pressure'\n",
        "print(df['sea_level_pressure'].describe())\n",
        "df['sea_level_pressure'].hist()"
      ],
      "execution_count": null,
      "outputs": []
    },
    {
      "cell_type": "markdown",
      "metadata": {
        "id": "6my-HS_OmSpc"
      },
      "source": [
        "Dari histogram terlihat bahwa nilai-nilai dari variabel 'sea_level_pressure' cenderung skewed ke kiri. Maka dari itu akan dilakukan imputasi median untuk missing values dari variabel ini."
      ]
    },
    {
      "cell_type": "code",
      "metadata": {
        "id": "AG13qkNtwTqZ"
      },
      "source": [
        "#cek distribusi variabel 'air_temperature'\n",
        "print(df['air_temperature'].describe())\n",
        "df['air_temperature'].hist()"
      ],
      "execution_count": null,
      "outputs": []
    },
    {
      "cell_type": "markdown",
      "metadata": {
        "id": "4QwRg1Dum5m7"
      },
      "source": [
        "Dari histogram terlihat bahwa nilai-nilai dari variabel 'air_temperature' cenderung skewed ke kanan. Maka dari itu akan dilakukan imputasi median untuk missing values dari variabel ini."
      ]
    },
    {
      "cell_type": "code",
      "metadata": {
        "id": "wOCYGsRFwZdx"
      },
      "source": [
        "#cek distribusi variabel 'dew_temperature'\n",
        "print(df['dew_temperature'].describe())\n",
        "df['dew_temperature'].hist()"
      ],
      "execution_count": null,
      "outputs": []
    },
    {
      "cell_type": "markdown",
      "metadata": {
        "id": "ZtDmbFSunFiO"
      },
      "source": [
        "Dari histogram terlihat bahwa nilai-nilai dari variabel 'dew_temperature' cenderung skewed ke kanan. Maka dari itu akan dilakukan imputasi median untuk missing values dari variabel ini."
      ]
    },
    {
      "cell_type": "code",
      "metadata": {
        "id": "jsoSgQklwqnD"
      },
      "source": [
        "#cek distribusi variabel 'wind_speed'\n",
        "print(df['wind_speed'].describe())\n",
        "df['wind_speed'].hist()"
      ],
      "execution_count": null,
      "outputs": []
    },
    {
      "cell_type": "markdown",
      "metadata": {
        "id": "Utm9mrf1nMq1"
      },
      "source": [
        "Dari histogram terlihat bahwa nilai-nilai dari variabel 'wind_speed' cenderung skewed ke kiri. Maka dari itu akan dilakukan imputasi median untuk missing values dari variabel ini."
      ]
    },
    {
      "cell_type": "code",
      "metadata": {
        "id": "l3ZKJtKen_cm"
      },
      "source": [
        "#cek distribusi variabel 'wind_direction'\n",
        "print(df['wind_direction'].describe())\n",
        "df['wind_direction'].hist()"
      ],
      "execution_count": null,
      "outputs": []
    },
    {
      "cell_type": "markdown",
      "metadata": {
        "id": "jOtqlp2Ho9Hl"
      },
      "source": [
        "Dari histogram terlihat bahwa nilai-nilai dari variabel 'wind_direction' tidak mengikuti distribusi normal. Maka dari itu akan dilakukan imputasi median untuk missing values dari variabel ini."
      ]
    },
    {
      "cell_type": "code",
      "metadata": {
        "id": "heVukCQRxXnh"
      },
      "source": [
        "#Mengganti missing value dengan Median (imputasi median)\n",
        "df_impute_median = df.loc[:, ['precip_depth_1_hr','air_temperature', 'dew_temperature', 'wind_speed', 'sea_level_pressure','wind_direction']]\n",
        "for i in df_impute_median.columns:\n",
        "  df[i].fillna(df[i].median(), inplace=True)"
      ],
      "execution_count": null,
      "outputs": []
    },
    {
      "cell_type": "code",
      "metadata": {
        "id": "NYrGX_OOdZ5B"
      },
      "source": [
        "#cek kembali jumlah missing values\n",
        "df.isnull().sum()"
      ],
      "execution_count": null,
      "outputs": []
    },
    {
      "cell_type": "markdown",
      "metadata": {
        "id": "0QIHlL-lVUeG"
      },
      "source": [
        "**Checking Outliers**"
      ]
    },
    {
      "cell_type": "code",
      "metadata": {
        "id": "cSnuk27DaId2"
      },
      "source": [
        "df.info()"
      ],
      "execution_count": null,
      "outputs": []
    },
    {
      "cell_type": "code",
      "metadata": {
        "id": "XvYTA-7ZVQMz"
      },
      "source": [
        "#Memeriksa persentase outlier di setiap variabel\n",
        "for i in df[['meter_reading', 'square_feet', 'air_temperature', 'dew_temperature', 'precip_depth_1_hr', 'sea_level_pressure', 'wind_direction', 'wind_speed']]:  \n",
        "    Q1  = df[i].quantile(0.25)\n",
        "    Q3  = df[i].quantile(0.75)\n",
        "    IQR = Q3-Q1\n",
        "\n",
        "    Lower_Bound = Q1-(1.5*IQR)\n",
        "    Upper_Bound = Q3+(1.5*IQR)\n",
        "\n",
        "    print('Kolom',i,'Memiliki Outliers sebesar:',round(len(df[(df[i]>Upper_Bound)|(df[i]<Lower_Bound)])/len(df)*100,2),'%')\n",
        "print('\\n')"
      ],
      "execution_count": null,
      "outputs": []
    },
    {
      "cell_type": "markdown",
      "metadata": {
        "id": "HbdBp0H-pZgL"
      },
      "source": [
        "Karena variabel 'meter_reading' memiliki persentase outlier paling besar (12.24%), maka akan dibandingkan rata-rata dari outlier dengan rata-rata dari seluruh nilai variabel 'meter_reading'."
      ]
    },
    {
      "cell_type": "code",
      "metadata": {
        "id": "K6GEoBaDrPfR"
      },
      "source": [
        "for i in ['meter_reading']:  \n",
        "    Q1  = df[i].quantile(0.25)\n",
        "    Q3  = df[i].quantile(0.75)\n",
        "    IQR = Q3-Q1\n",
        "\n",
        "    Lower_Bound = Q1-(1.5*IQR)\n",
        "    Upper_Bound = Q3+(1.5*IQR)\n",
        "\n",
        "print('Kolom',i,'Memiliki Outliers sebesar:',len(df[(df[i]>Upper_Bound)|(df[i]<Lower_Bound)])/len(df)*100,'%')\n",
        "Outliers_meter_reading = df[(df[i]>Upper_Bound)|(df[i]<Lower_Bound)]\n",
        "print(Outliers_meter_reading['meter_reading'].mean())\n",
        "print(df['meter_reading'].mean())"
      ],
      "execution_count": null,
      "outputs": []
    },
    {
      "cell_type": "markdown",
      "metadata": {
        "id": "RsBVB0b-rRWx"
      },
      "source": [
        "Dari hasil perbandingan diperoleh bahwa rata-rata outlier pada variabel 'meter_reading' jauh lebih tinggi dibandingkan rata-rata dari seluruh nilai variabel 'meter_reading'."
      ]
    },
    {
      "cell_type": "code",
      "metadata": {
        "id": "kKph0u6SciKY"
      },
      "source": [
        "#Selanjutnya akan dilihat komponen variabel-variabel yang terlihat terdapat outlier\n",
        "#seperti variabel:square_feet & meter_reading\n",
        "df.loc[df['site_id']==8].sort_values(by=['square_feet'],ascending=False).head(5)"
      ],
      "execution_count": null,
      "outputs": []
    },
    {
      "cell_type": "code",
      "metadata": {
        "id": "GnBiX3PAdikC"
      },
      "source": [
        "df.loc[df['site_id']==13].sort_values(by=['meter_reading'],ascending=False).head(5)"
      ],
      "execution_count": null,
      "outputs": []
    },
    {
      "cell_type": "markdown",
      "metadata": {
        "id": "rAsk2q1wzxjw"
      },
      "source": [
        "**Visualisasi untuk mengecek outlier**"
      ]
    },
    {
      "cell_type": "code",
      "metadata": {
        "id": "a07Rj3oeZ_E4"
      },
      "source": [
        "#visualisasi variabel 'site_id' dengan variabel 'meter_reading' menggunakan boxplot\n",
        "p = sns.boxplot(x='site_id', y='meter_reading', data=df)"
      ],
      "execution_count": null,
      "outputs": []
    },
    {
      "cell_type": "markdown",
      "metadata": {
        "id": "kOCnXNJ80JWA"
      },
      "source": [
        "**Interpretasi:** Pada site_id 13 jumlah penggunaan energi (variabel meter_reading) cenderung lebih besar dibandingkan site_id lainnya. \n",
        "\n",
        "Sehingga ada indikasi bahwa site_id tersebut merupakah daerah yang didominasi oleh gedung industri yang rata - rata menggunakan energi lebih banyak dari yang lain."
      ]
    },
    {
      "cell_type": "code",
      "metadata": {
        "id": "IoHTGxNZWJzB"
      },
      "source": [
        "#visualisasi variabel 'site_id' dengan variabel 'air_temperature' menggunakan boxplot\n",
        "sns.boxplot(x='site_id', y='air_temperature', data=df)"
      ],
      "execution_count": null,
      "outputs": []
    },
    {
      "cell_type": "markdown",
      "metadata": {
        "id": "l47nDNU9sOMl"
      },
      "source": [
        "**Interpretasi:** \n",
        "\n",
        "Daerah 0, 2, 8, & 9 memiliki rata-rata suhu cenderung lebih tinggi dibandingkan dengan daerah-daerah lainnya, dan suhu tertinggi tercatat di daerah 2.\n",
        "\n",
        "Oleh karena itu, ada indikasi bahwa 4 daerah tersebut merupakan daerah berada di iklim tropis / gurun."
      ]
    },
    {
      "cell_type": "code",
      "metadata": {
        "id": "EjExwg5PTG0A"
      },
      "source": [
        "#visualisasi variabel 'site_id' dengan variabel 'square_feet' menggunakan boxplot\n",
        "p = sns.boxplot(x='site_id', y='square_feet', data=df)"
      ],
      "execution_count": null,
      "outputs": []
    },
    {
      "cell_type": "markdown",
      "metadata": {
        "id": "vt_NUZiitvoF"
      },
      "source": [
        "**Interpretasi**: \n",
        "\n",
        "Rata-rata square_feet tertinggi terdapat pada site_id 7. Dari boxplot di atas, ada indikasi harga tanah site_id 7 cenderung lebih murah dibandingkan dengan site id lainnya karena ada kemungkinan bahwa lokasi tersebut jauh dari pusat kota."
      ]
    },
    {
      "cell_type": "code",
      "metadata": {
        "id": "vbl2_GRXZpLq"
      },
      "source": [
        "p = sns.boxplot(x='site_id', y='wind_speed', data=df)"
      ],
      "execution_count": null,
      "outputs": []
    },
    {
      "cell_type": "markdown",
      "metadata": {
        "id": "KA7QaVNf4eXM"
      },
      "source": [
        "**Interpretasi**:\n",
        "\n",
        "\n",
        "Dari BoxPlot di atas, terlihat site_id 12 memiliki nilai wind_speed yang cenderung lebih tinggi dari yang lain.\n",
        "\n",
        "Sehingga bisa menjadi pertimbangan bagi perusahaan ASHRAE untuk membangun Pusat Pembangkit Listrik Tenaga Angin pada site_id ini."
      ]
    },
    {
      "cell_type": "code",
      "metadata": {
        "id": "woEnW577985U"
      },
      "source": [
        "#visualisasi variabel 'site_id' dengan variabel 'air_temperature' menggunakan boxplot\n",
        "sns.boxplot(x='site_id', y='sea_level_pressure', data=df)"
      ],
      "execution_count": null,
      "outputs": []
    },
    {
      "cell_type": "code",
      "metadata": {
        "id": "sh9-agS0b8bK"
      },
      "source": [
        "p = sns.boxplot(x='site_id', y='dew_temperature', data=df)"
      ],
      "execution_count": null,
      "outputs": []
    },
    {
      "cell_type": "markdown",
      "metadata": {
        "id": "xsOySJg543HM"
      },
      "source": [
        "**Interpretasi**:\n"
      ]
    },
    {
      "cell_type": "code",
      "metadata": {
        "id": "OxWFDcy_cPpp"
      },
      "source": [
        "p = sns.boxplot(x='site_id', y='wind_direction', data=df)"
      ],
      "execution_count": null,
      "outputs": []
    },
    {
      "cell_type": "markdown",
      "metadata": {
        "id": "FTxM-kGz6sdK"
      },
      "source": [
        "**Interpretasi**:\n",
        "\n",
        "Dari output boxplot di atas, seluruh site_id memilki nilai wind_direction yang cenderung sama. Sehingga tidak terlihat adanya karakteristik khusus / berbeda pada setiap site_id nya."
      ]
    },
    {
      "cell_type": "code",
      "metadata": {
        "id": "ufnIiHjGcW63"
      },
      "source": [
        "p = sns.boxplot(x='site_id', y='precip_depth_1_hr', data=df)"
      ],
      "execution_count": null,
      "outputs": []
    },
    {
      "cell_type": "markdown",
      "metadata": {
        "id": "yhvvcPsE8EBo"
      },
      "source": [
        "**Interpretasi**:\n"
      ]
    },
    {
      "cell_type": "markdown",
      "metadata": {
        "id": "IInxLRtB5Qgi"
      },
      "source": [
        "**EXPLORATORY DATA ANALYSIS**"
      ]
    },
    {
      "cell_type": "code",
      "metadata": {
        "id": "lo6EsNg65eii"
      },
      "source": [
        "df.columns"
      ],
      "execution_count": null,
      "outputs": []
    },
    {
      "cell_type": "code",
      "metadata": {
        "id": "oOtBlhym5nJY"
      },
      "source": [
        "df.info()"
      ],
      "execution_count": null,
      "outputs": []
    },
    {
      "cell_type": "markdown",
      "metadata": {
        "id": "kufd3XbY9bEi"
      },
      "source": [
        "**VISUALISASI DATA**"
      ]
    },
    {
      "cell_type": "markdown",
      "metadata": {
        "id": "J5_5CwC29FLG"
      },
      "source": [
        "**Visualisasi 1 : Jumlah Gedung Berdasarkan Primary_Use**"
      ]
    },
    {
      "cell_type": "code",
      "metadata": {
        "id": "TRhSj7JTpKhn"
      },
      "source": [
        "p = sns.countplot(y='primary_use', data=df)"
      ],
      "execution_count": null,
      "outputs": []
    },
    {
      "cell_type": "markdown",
      "metadata": {
        "id": "sQ1nCEF59Rx8"
      },
      "source": [
        "**Interpretasi :**\n",
        "\n",
        "Dari visualisasi di atas, ada indikasi bahwa mayoritas gedung digunakan sebagai tempat pusat Pendidikan (Education). Lalu diikuti oleh gedung Kantor (Office) dan gedung Entertainment / Public Assembly."
      ]
    },
    {
      "cell_type": "code",
      "metadata": {
        "id": "UymDYqXJ-uov"
      },
      "source": [
        "grouped_primary_use = df.groupby('primary_use')[['meter_reading']].median().sort_values('meter_reading', ascending=False)"
      ],
      "execution_count": null,
      "outputs": []
    },
    {
      "cell_type": "code",
      "metadata": {
        "id": "fyAkWNSt_BJz"
      },
      "source": [
        "grouped_primary_use"
      ],
      "execution_count": null,
      "outputs": []
    },
    {
      "cell_type": "markdown",
      "metadata": {
        "id": "bjWSadARAyXg"
      },
      "source": [
        "** Interpretasi : **\n",
        "\n",
        "Dari tabel di atas, ada indikasi bahwa Gedung \"Services\" dan \"Healthcare\" termasuk gedung yang menggunakan banyak energi. Namun jika dihubungkan dengan visualisasi sebelumnya, banyaknya kedua jenis gedung ini relatif sedikit dibandingkan dengan yang lain.\n",
        "\n",
        "Sehingga bisa menjadi perhatian lebih untuk pihak terkait bahwa daerah - daerah yang memiliki kedua jenis gedung tersebut tetap perlu menyediakan stok energi yang relatif banyak."
      ]
    },
    {
      "cell_type": "code",
      "metadata": {
        "id": "52o_17xZ_aUr"
      },
      "source": [
        "grouped_p_sf = df.groupby('primary_use')[['square_feet']].median().sort_values('square_feet', ascending=False)"
      ],
      "execution_count": null,
      "outputs": []
    },
    {
      "cell_type": "code",
      "metadata": {
        "id": "HLFDtWcK_inu"
      },
      "source": [
        "grouped_p_sf"
      ],
      "execution_count": null,
      "outputs": []
    },
    {
      "cell_type": "markdown",
      "metadata": {
        "id": "Hn8_YBkaEMFo"
      },
      "source": [
        ""
      ]
    },
    {
      "cell_type": "code",
      "metadata": {
        "id": "cFIH--9D8_4q"
      },
      "source": [
        "p = sns.countplot(y='site_id', data=df)"
      ],
      "execution_count": null,
      "outputs": []
    },
    {
      "cell_type": "code",
      "metadata": {
        "id": "pLZz7_WUJztV"
      },
      "source": [
        "grouped_site_id = df.groupby('site_id')[['square_feet']].median().sort_values('square_feet', ascending=False)"
      ],
      "execution_count": null,
      "outputs": []
    },
    {
      "cell_type": "code",
      "metadata": {
        "id": "ypM6vQ3m91Ah"
      },
      "source": [
        "grouped_site_id"
      ],
      "execution_count": null,
      "outputs": []
    },
    {
      "cell_type": "code",
      "metadata": {
        "id": "TG-AU8oP7gLA"
      },
      "source": [
        "grouped_site_id_meter_reading = df.groupby('site_id')[['meter_reading']].median().sort_values('meter_reading', ascending=False)"
      ],
      "execution_count": null,
      "outputs": []
    },
    {
      "cell_type": "code",
      "metadata": {
        "id": "P1APWfKc_0TH"
      },
      "source": [
        "grouped_site_id_meter_reading"
      ],
      "execution_count": null,
      "outputs": []
    },
    {
      "cell_type": "code",
      "metadata": {
        "id": "FD4eokMw_1pZ"
      },
      "source": [
        "grouped_by_day_mr = df.groupby('day')[['meter_reading']].median().sort_values('meter_reading', ascending=False)\n",
        "grouped_by_month_mr = df.groupby('month')[['meter_reading']].median().sort_values('meter_reading', ascending=False)"
      ],
      "execution_count": null,
      "outputs": []
    },
    {
      "cell_type": "code",
      "metadata": {
        "id": "JhUq_Z8cB5Xo"
      },
      "source": [
        "print(grouped_by_day_mr)\n",
        "print(grouped_by_month_mr)"
      ],
      "execution_count": null,
      "outputs": []
    },
    {
      "cell_type": "code",
      "metadata": {
        "id": "vaFFoL3MG0eU"
      },
      "source": [
        "plt.figure(figsize=(8,6)) \n",
        "p = sns.countplot(x=\"meter\", data=df)"
      ],
      "execution_count": null,
      "outputs": []
    },
    {
      "cell_type": "code",
      "metadata": {
        "id": "N_bhidY_KLhU"
      },
      "source": [
        "df.columns"
      ],
      "execution_count": null,
      "outputs": []
    },
    {
      "cell_type": "code",
      "metadata": {
        "id": "91YQR8RkHHJ2"
      },
      "source": [
        "df = df.set_index('timestamp')"
      ],
      "execution_count": null,
      "outputs": []
    },
    {
      "cell_type": "code",
      "metadata": {
        "id": "w0Gw7TZcKNqG"
      },
      "source": [
        "aa = df['air_temperature']"
      ],
      "execution_count": null,
      "outputs": []
    },
    {
      "cell_type": "code",
      "metadata": {
        "id": "3MZFRCjCKgmI"
      },
      "source": [
        "suhu_udara = aa.resample('D').sum()\n",
        "print('air_temperature')\n",
        "print(suhu_udara.head(), '\\n')\n",
        "\n",
        "\n",
        "plotsize = (13, 5)\n",
        "\n",
        "suhu_udara.plot(figsize=plotsize, title='Air Temperature')"
      ],
      "execution_count": null,
      "outputs": []
    },
    {
      "cell_type": "markdown",
      "metadata": {
        "id": "K7gFMhTvF9lN"
      },
      "source": [
        "**Interpretasi:** suhu udara cenderung lebih tinggi di sekitar bulan Juni sampai dengan September, dan menunjukkan tren menurun sejak akhir September hingga pertengahan Desember. "
      ]
    },
    {
      "cell_type": "code",
      "metadata": {
        "id": "0fFnA4aqK_eo"
      },
      "source": [
        "bb = df['meter_reading']"
      ],
      "execution_count": null,
      "outputs": []
    },
    {
      "cell_type": "code",
      "metadata": {
        "id": "eilRD3MzMk_B"
      },
      "source": [
        "#grafik time series penggunaan energi\n",
        "meter_read = bb.resample('D').sum()\n",
        "print('meter_reading')\n",
        "print(meter_read.head(), '\\n')\n",
        "\n",
        "\n",
        "plotsize = (13, 5)\n",
        "\n",
        "meter_read.plot(figsize=plotsize, title='Meter Reading', color='orange')"
      ],
      "execution_count": null,
      "outputs": []
    },
    {
      "cell_type": "markdown",
      "metadata": {
        "id": "CWyMfpv2JZ2c"
      },
      "source": [
        "**Interpretasi:** Terdapat penggunaan energi yang cenderung lebih tinggi secara signifikan pada bulan Maret hingga pertengahan Juni. Selain itu pada pertengahan bulan November terdapat penggunaan energi yang relatif besar dibanding tanggal-tanggal sebelum dan sesudah kejadian tersebut. Hal ini mungkin mengindikasikan adanya sebuah event yang membutuhkan energi yang cukup besar."
      ]
    },
    {
      "cell_type": "code",
      "metadata": {
        "id": "_f_03IPhfFfF"
      },
      "source": [
        "cc = df[['air_temperature','dew_temperature']]"
      ],
      "execution_count": null,
      "outputs": []
    },
    {
      "cell_type": "code",
      "metadata": {
        "id": "VOKanoVqHwwj"
      },
      "source": [
        "#membandingkan grafik time series 'air_temperature' dengan 'dew_temperature'\n",
        "temperature = cc.resample('D').sum()\n",
        "print('temperature')\n",
        "print(temperature.head(), '\\n')\n",
        "\n",
        "\n",
        "plotsize = (13, 5)\n",
        "\n",
        "temperature.plot(figsize=plotsize, title='Air Temperature vs Dew Temperature')"
      ],
      "execution_count": null,
      "outputs": []
    },
    {
      "cell_type": "markdown",
      "metadata": {
        "id": "71rVy4FVIxV9"
      },
      "source": [
        "**Interpretasi:** Dari grafik time series di atas, dapat dilihat bahwa air temperature dengan dew temperature berkorelasi positif. "
      ]
    },
    {
      "cell_type": "code",
      "metadata": {
        "id": "H27LnYdSB6gG"
      },
      "source": [
        "#Melihat korelasi antar variabel\n",
        "df.corr()"
      ],
      "execution_count": null,
      "outputs": []
    },
    {
      "cell_type": "code",
      "metadata": {
        "id": "0FUVrD5VB9-n"
      },
      "source": [
        "#Melihat korelasi antar variabel menggunakan Heat Map\n",
        "corr = df.corr() \n",
        "plt.figure(figsize=(12, 10))\n",
        "sns.heatmap(corr[(corr >= 0.5) | (corr <= -0.4)], \n",
        "            cmap='viridis', vmax=1.0, vmin=-1.0, linewidths=0.1,\n",
        "            annot=True, annot_kws={\"size\": 14}, square=True);"
      ],
      "execution_count": null,
      "outputs": []
    },
    {
      "cell_type": "markdown",
      "metadata": {
        "id": "rQcydc1mRZ7C"
      },
      "source": [
        "**Interpretasi:** dari matriks korelasi di atas, terlihat bahwa air_temperature dengan dew_temperature memiliki nilai korelasi yang signifikan, yaitu 0.75."
      ]
    }
  ]
}