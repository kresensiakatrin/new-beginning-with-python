{
 "cells": [
  {
   "cell_type": "code",
   "execution_count": 2,
   "metadata": {},
   "outputs": [],
   "source": [
    "import pandas as pd\n",
    "import numpy as np\n",
    "import matplotlib.pyplot as plt\n",
    "import seaborn as sns"
   ]
  },
  {
   "cell_type": "code",
   "execution_count": 3,
   "metadata": {},
   "outputs": [],
   "source": [
    "from numpy.random import seed\n",
    "seed(1)\n",
    "from tensorflow import random\n",
    "random.set_seed(1)\n",
    "import random\n",
    "random.seed(1)"
   ]
  },
  {
   "cell_type": "code",
   "execution_count": 4,
   "metadata": {},
   "outputs": [],
   "source": [
    "df = pd.read_csv('aug_train.csv')"
   ]
  },
  {
   "cell_type": "code",
   "execution_count": 4,
   "metadata": {
    "scrolled": true
   },
   "outputs": [
    {
     "data": {
      "text/html": [
       "<div>\n",
       "<style scoped>\n",
       "    .dataframe tbody tr th:only-of-type {\n",
       "        vertical-align: middle;\n",
       "    }\n",
       "\n",
       "    .dataframe tbody tr th {\n",
       "        vertical-align: top;\n",
       "    }\n",
       "\n",
       "    .dataframe thead th {\n",
       "        text-align: right;\n",
       "    }\n",
       "</style>\n",
       "<table border=\"1\" class=\"dataframe\">\n",
       "  <thead>\n",
       "    <tr style=\"text-align: right;\">\n",
       "      <th></th>\n",
       "      <th>enrollee_id</th>\n",
       "      <th>city</th>\n",
       "      <th>city_development_index</th>\n",
       "      <th>gender</th>\n",
       "      <th>relevent_experience</th>\n",
       "      <th>enrolled_university</th>\n",
       "      <th>education_level</th>\n",
       "      <th>major_discipline</th>\n",
       "      <th>experience</th>\n",
       "      <th>company_size</th>\n",
       "      <th>company_type</th>\n",
       "      <th>last_new_job</th>\n",
       "      <th>training_hours</th>\n",
       "      <th>target</th>\n",
       "    </tr>\n",
       "  </thead>\n",
       "  <tbody>\n",
       "    <tr>\n",
       "      <th>0</th>\n",
       "      <td>8949</td>\n",
       "      <td>city_103</td>\n",
       "      <td>0.920</td>\n",
       "      <td>Male</td>\n",
       "      <td>Has relevent experience</td>\n",
       "      <td>no_enrollment</td>\n",
       "      <td>Graduate</td>\n",
       "      <td>STEM</td>\n",
       "      <td>&gt;20</td>\n",
       "      <td>NaN</td>\n",
       "      <td>NaN</td>\n",
       "      <td>1</td>\n",
       "      <td>36</td>\n",
       "      <td>1.0</td>\n",
       "    </tr>\n",
       "    <tr>\n",
       "      <th>1</th>\n",
       "      <td>29725</td>\n",
       "      <td>city_40</td>\n",
       "      <td>0.776</td>\n",
       "      <td>Male</td>\n",
       "      <td>No relevent experience</td>\n",
       "      <td>no_enrollment</td>\n",
       "      <td>Graduate</td>\n",
       "      <td>STEM</td>\n",
       "      <td>15</td>\n",
       "      <td>50-99</td>\n",
       "      <td>Pvt Ltd</td>\n",
       "      <td>&gt;4</td>\n",
       "      <td>47</td>\n",
       "      <td>0.0</td>\n",
       "    </tr>\n",
       "    <tr>\n",
       "      <th>2</th>\n",
       "      <td>11561</td>\n",
       "      <td>city_21</td>\n",
       "      <td>0.624</td>\n",
       "      <td>NaN</td>\n",
       "      <td>No relevent experience</td>\n",
       "      <td>Full time course</td>\n",
       "      <td>Graduate</td>\n",
       "      <td>STEM</td>\n",
       "      <td>5</td>\n",
       "      <td>NaN</td>\n",
       "      <td>NaN</td>\n",
       "      <td>never</td>\n",
       "      <td>83</td>\n",
       "      <td>0.0</td>\n",
       "    </tr>\n",
       "    <tr>\n",
       "      <th>3</th>\n",
       "      <td>33241</td>\n",
       "      <td>city_115</td>\n",
       "      <td>0.789</td>\n",
       "      <td>NaN</td>\n",
       "      <td>No relevent experience</td>\n",
       "      <td>NaN</td>\n",
       "      <td>Graduate</td>\n",
       "      <td>Business Degree</td>\n",
       "      <td>&lt;1</td>\n",
       "      <td>NaN</td>\n",
       "      <td>Pvt Ltd</td>\n",
       "      <td>never</td>\n",
       "      <td>52</td>\n",
       "      <td>1.0</td>\n",
       "    </tr>\n",
       "    <tr>\n",
       "      <th>4</th>\n",
       "      <td>666</td>\n",
       "      <td>city_162</td>\n",
       "      <td>0.767</td>\n",
       "      <td>Male</td>\n",
       "      <td>Has relevent experience</td>\n",
       "      <td>no_enrollment</td>\n",
       "      <td>Masters</td>\n",
       "      <td>STEM</td>\n",
       "      <td>&gt;20</td>\n",
       "      <td>50-99</td>\n",
       "      <td>Funded Startup</td>\n",
       "      <td>4</td>\n",
       "      <td>8</td>\n",
       "      <td>0.0</td>\n",
       "    </tr>\n",
       "  </tbody>\n",
       "</table>\n",
       "</div>"
      ],
      "text/plain": [
       "   enrollee_id      city  city_development_index gender  \\\n",
       "0         8949  city_103                   0.920   Male   \n",
       "1        29725   city_40                   0.776   Male   \n",
       "2        11561   city_21                   0.624    NaN   \n",
       "3        33241  city_115                   0.789    NaN   \n",
       "4          666  city_162                   0.767   Male   \n",
       "\n",
       "       relevent_experience enrolled_university education_level  \\\n",
       "0  Has relevent experience       no_enrollment        Graduate   \n",
       "1   No relevent experience       no_enrollment        Graduate   \n",
       "2   No relevent experience    Full time course        Graduate   \n",
       "3   No relevent experience                 NaN        Graduate   \n",
       "4  Has relevent experience       no_enrollment         Masters   \n",
       "\n",
       "  major_discipline experience company_size    company_type last_new_job  \\\n",
       "0             STEM        >20          NaN             NaN            1   \n",
       "1             STEM         15        50-99         Pvt Ltd           >4   \n",
       "2             STEM          5          NaN             NaN        never   \n",
       "3  Business Degree         <1          NaN         Pvt Ltd        never   \n",
       "4             STEM        >20        50-99  Funded Startup            4   \n",
       "\n",
       "   training_hours  target  \n",
       "0              36     1.0  \n",
       "1              47     0.0  \n",
       "2              83     0.0  \n",
       "3              52     1.0  \n",
       "4               8     0.0  "
      ]
     },
     "execution_count": 4,
     "metadata": {},
     "output_type": "execute_result"
    }
   ],
   "source": [
    "df.head()"
   ]
  },
  {
   "cell_type": "code",
   "execution_count": 5,
   "metadata": {},
   "outputs": [
    {
     "data": {
      "text/plain": [
       "(19158, 14)"
      ]
     },
     "execution_count": 5,
     "metadata": {},
     "output_type": "execute_result"
    }
   ],
   "source": [
    "df.shape"
   ]
  },
  {
   "cell_type": "code",
   "execution_count": 6,
   "metadata": {},
   "outputs": [
    {
     "name": "stdout",
     "output_type": "stream",
     "text": [
      "<class 'pandas.core.frame.DataFrame'>\n",
      "RangeIndex: 19158 entries, 0 to 19157\n",
      "Data columns (total 14 columns):\n",
      " #   Column                  Non-Null Count  Dtype  \n",
      "---  ------                  --------------  -----  \n",
      " 0   enrollee_id             19158 non-null  int64  \n",
      " 1   city                    19158 non-null  object \n",
      " 2   city_development_index  19158 non-null  float64\n",
      " 3   gender                  14650 non-null  object \n",
      " 4   relevent_experience     19158 non-null  object \n",
      " 5   enrolled_university     18772 non-null  object \n",
      " 6   education_level         18698 non-null  object \n",
      " 7   major_discipline        16345 non-null  object \n",
      " 8   experience              19093 non-null  object \n",
      " 9   company_size            13220 non-null  object \n",
      " 10  company_type            13018 non-null  object \n",
      " 11  last_new_job            18735 non-null  object \n",
      " 12  training_hours          19158 non-null  int64  \n",
      " 13  target                  19158 non-null  float64\n",
      "dtypes: float64(2), int64(2), object(10)\n",
      "memory usage: 2.0+ MB\n"
     ]
    }
   ],
   "source": [
    "df.info()"
   ]
  },
  {
   "cell_type": "code",
   "execution_count": 7,
   "metadata": {},
   "outputs": [
    {
     "data": {
      "text/html": [
       "<div>\n",
       "<style scoped>\n",
       "    .dataframe tbody tr th:only-of-type {\n",
       "        vertical-align: middle;\n",
       "    }\n",
       "\n",
       "    .dataframe tbody tr th {\n",
       "        vertical-align: top;\n",
       "    }\n",
       "\n",
       "    .dataframe thead th {\n",
       "        text-align: right;\n",
       "    }\n",
       "</style>\n",
       "<table border=\"1\" class=\"dataframe\">\n",
       "  <thead>\n",
       "    <tr style=\"text-align: right;\">\n",
       "      <th></th>\n",
       "      <th>enrollee_id</th>\n",
       "      <th>city_development_index</th>\n",
       "      <th>training_hours</th>\n",
       "      <th>target</th>\n",
       "    </tr>\n",
       "  </thead>\n",
       "  <tbody>\n",
       "    <tr>\n",
       "      <th>count</th>\n",
       "      <td>19158.000000</td>\n",
       "      <td>19158.000000</td>\n",
       "      <td>19158.000000</td>\n",
       "      <td>19158.000000</td>\n",
       "    </tr>\n",
       "    <tr>\n",
       "      <th>mean</th>\n",
       "      <td>16875.358179</td>\n",
       "      <td>0.828848</td>\n",
       "      <td>65.366896</td>\n",
       "      <td>0.249348</td>\n",
       "    </tr>\n",
       "    <tr>\n",
       "      <th>std</th>\n",
       "      <td>9616.292592</td>\n",
       "      <td>0.123362</td>\n",
       "      <td>60.058462</td>\n",
       "      <td>0.432647</td>\n",
       "    </tr>\n",
       "    <tr>\n",
       "      <th>min</th>\n",
       "      <td>1.000000</td>\n",
       "      <td>0.448000</td>\n",
       "      <td>1.000000</td>\n",
       "      <td>0.000000</td>\n",
       "    </tr>\n",
       "    <tr>\n",
       "      <th>25%</th>\n",
       "      <td>8554.250000</td>\n",
       "      <td>0.740000</td>\n",
       "      <td>23.000000</td>\n",
       "      <td>0.000000</td>\n",
       "    </tr>\n",
       "    <tr>\n",
       "      <th>50%</th>\n",
       "      <td>16982.500000</td>\n",
       "      <td>0.903000</td>\n",
       "      <td>47.000000</td>\n",
       "      <td>0.000000</td>\n",
       "    </tr>\n",
       "    <tr>\n",
       "      <th>75%</th>\n",
       "      <td>25169.750000</td>\n",
       "      <td>0.920000</td>\n",
       "      <td>88.000000</td>\n",
       "      <td>0.000000</td>\n",
       "    </tr>\n",
       "    <tr>\n",
       "      <th>max</th>\n",
       "      <td>33380.000000</td>\n",
       "      <td>0.949000</td>\n",
       "      <td>336.000000</td>\n",
       "      <td>1.000000</td>\n",
       "    </tr>\n",
       "  </tbody>\n",
       "</table>\n",
       "</div>"
      ],
      "text/plain": [
       "        enrollee_id  city_development_index  training_hours        target\n",
       "count  19158.000000            19158.000000    19158.000000  19158.000000\n",
       "mean   16875.358179                0.828848       65.366896      0.249348\n",
       "std     9616.292592                0.123362       60.058462      0.432647\n",
       "min        1.000000                0.448000        1.000000      0.000000\n",
       "25%     8554.250000                0.740000       23.000000      0.000000\n",
       "50%    16982.500000                0.903000       47.000000      0.000000\n",
       "75%    25169.750000                0.920000       88.000000      0.000000\n",
       "max    33380.000000                0.949000      336.000000      1.000000"
      ]
     },
     "execution_count": 7,
     "metadata": {},
     "output_type": "execute_result"
    }
   ],
   "source": [
    "df.describe()"
   ]
  },
  {
   "cell_type": "code",
   "execution_count": 5,
   "metadata": {},
   "outputs": [],
   "source": [
    "df = df.drop(columns=['city'], axis=1)"
   ]
  },
  {
   "cell_type": "code",
   "execution_count": 9,
   "metadata": {},
   "outputs": [
    {
     "data": {
      "text/html": [
       "<div>\n",
       "<style scoped>\n",
       "    .dataframe tbody tr th:only-of-type {\n",
       "        vertical-align: middle;\n",
       "    }\n",
       "\n",
       "    .dataframe tbody tr th {\n",
       "        vertical-align: top;\n",
       "    }\n",
       "\n",
       "    .dataframe thead th {\n",
       "        text-align: right;\n",
       "    }\n",
       "</style>\n",
       "<table border=\"1\" class=\"dataframe\">\n",
       "  <thead>\n",
       "    <tr style=\"text-align: right;\">\n",
       "      <th></th>\n",
       "      <th>enrollee_id</th>\n",
       "      <th>city_development_index</th>\n",
       "      <th>gender</th>\n",
       "      <th>relevent_experience</th>\n",
       "      <th>enrolled_university</th>\n",
       "      <th>education_level</th>\n",
       "      <th>major_discipline</th>\n",
       "      <th>experience</th>\n",
       "      <th>company_size</th>\n",
       "      <th>company_type</th>\n",
       "      <th>last_new_job</th>\n",
       "      <th>training_hours</th>\n",
       "      <th>target</th>\n",
       "    </tr>\n",
       "  </thead>\n",
       "  <tbody>\n",
       "    <tr>\n",
       "      <th>0</th>\n",
       "      <td>8949</td>\n",
       "      <td>0.920</td>\n",
       "      <td>Male</td>\n",
       "      <td>Has relevent experience</td>\n",
       "      <td>no_enrollment</td>\n",
       "      <td>Graduate</td>\n",
       "      <td>STEM</td>\n",
       "      <td>&gt;20</td>\n",
       "      <td>NaN</td>\n",
       "      <td>NaN</td>\n",
       "      <td>1</td>\n",
       "      <td>36</td>\n",
       "      <td>1.0</td>\n",
       "    </tr>\n",
       "    <tr>\n",
       "      <th>1</th>\n",
       "      <td>29725</td>\n",
       "      <td>0.776</td>\n",
       "      <td>Male</td>\n",
       "      <td>No relevent experience</td>\n",
       "      <td>no_enrollment</td>\n",
       "      <td>Graduate</td>\n",
       "      <td>STEM</td>\n",
       "      <td>15</td>\n",
       "      <td>50-99</td>\n",
       "      <td>Pvt Ltd</td>\n",
       "      <td>&gt;4</td>\n",
       "      <td>47</td>\n",
       "      <td>0.0</td>\n",
       "    </tr>\n",
       "    <tr>\n",
       "      <th>2</th>\n",
       "      <td>11561</td>\n",
       "      <td>0.624</td>\n",
       "      <td>NaN</td>\n",
       "      <td>No relevent experience</td>\n",
       "      <td>Full time course</td>\n",
       "      <td>Graduate</td>\n",
       "      <td>STEM</td>\n",
       "      <td>5</td>\n",
       "      <td>NaN</td>\n",
       "      <td>NaN</td>\n",
       "      <td>never</td>\n",
       "      <td>83</td>\n",
       "      <td>0.0</td>\n",
       "    </tr>\n",
       "    <tr>\n",
       "      <th>3</th>\n",
       "      <td>33241</td>\n",
       "      <td>0.789</td>\n",
       "      <td>NaN</td>\n",
       "      <td>No relevent experience</td>\n",
       "      <td>NaN</td>\n",
       "      <td>Graduate</td>\n",
       "      <td>Business Degree</td>\n",
       "      <td>&lt;1</td>\n",
       "      <td>NaN</td>\n",
       "      <td>Pvt Ltd</td>\n",
       "      <td>never</td>\n",
       "      <td>52</td>\n",
       "      <td>1.0</td>\n",
       "    </tr>\n",
       "    <tr>\n",
       "      <th>4</th>\n",
       "      <td>666</td>\n",
       "      <td>0.767</td>\n",
       "      <td>Male</td>\n",
       "      <td>Has relevent experience</td>\n",
       "      <td>no_enrollment</td>\n",
       "      <td>Masters</td>\n",
       "      <td>STEM</td>\n",
       "      <td>&gt;20</td>\n",
       "      <td>50-99</td>\n",
       "      <td>Funded Startup</td>\n",
       "      <td>4</td>\n",
       "      <td>8</td>\n",
       "      <td>0.0</td>\n",
       "    </tr>\n",
       "    <tr>\n",
       "      <th>...</th>\n",
       "      <td>...</td>\n",
       "      <td>...</td>\n",
       "      <td>...</td>\n",
       "      <td>...</td>\n",
       "      <td>...</td>\n",
       "      <td>...</td>\n",
       "      <td>...</td>\n",
       "      <td>...</td>\n",
       "      <td>...</td>\n",
       "      <td>...</td>\n",
       "      <td>...</td>\n",
       "      <td>...</td>\n",
       "      <td>...</td>\n",
       "    </tr>\n",
       "    <tr>\n",
       "      <th>19153</th>\n",
       "      <td>7386</td>\n",
       "      <td>0.878</td>\n",
       "      <td>Male</td>\n",
       "      <td>No relevent experience</td>\n",
       "      <td>no_enrollment</td>\n",
       "      <td>Graduate</td>\n",
       "      <td>Humanities</td>\n",
       "      <td>14</td>\n",
       "      <td>NaN</td>\n",
       "      <td>NaN</td>\n",
       "      <td>1</td>\n",
       "      <td>42</td>\n",
       "      <td>1.0</td>\n",
       "    </tr>\n",
       "    <tr>\n",
       "      <th>19154</th>\n",
       "      <td>31398</td>\n",
       "      <td>0.920</td>\n",
       "      <td>Male</td>\n",
       "      <td>Has relevent experience</td>\n",
       "      <td>no_enrollment</td>\n",
       "      <td>Graduate</td>\n",
       "      <td>STEM</td>\n",
       "      <td>14</td>\n",
       "      <td>NaN</td>\n",
       "      <td>NaN</td>\n",
       "      <td>4</td>\n",
       "      <td>52</td>\n",
       "      <td>1.0</td>\n",
       "    </tr>\n",
       "    <tr>\n",
       "      <th>19155</th>\n",
       "      <td>24576</td>\n",
       "      <td>0.920</td>\n",
       "      <td>Male</td>\n",
       "      <td>Has relevent experience</td>\n",
       "      <td>no_enrollment</td>\n",
       "      <td>Graduate</td>\n",
       "      <td>STEM</td>\n",
       "      <td>&gt;20</td>\n",
       "      <td>50-99</td>\n",
       "      <td>Pvt Ltd</td>\n",
       "      <td>4</td>\n",
       "      <td>44</td>\n",
       "      <td>0.0</td>\n",
       "    </tr>\n",
       "    <tr>\n",
       "      <th>19156</th>\n",
       "      <td>5756</td>\n",
       "      <td>0.802</td>\n",
       "      <td>Male</td>\n",
       "      <td>Has relevent experience</td>\n",
       "      <td>no_enrollment</td>\n",
       "      <td>High School</td>\n",
       "      <td>NaN</td>\n",
       "      <td>&lt;1</td>\n",
       "      <td>500-999</td>\n",
       "      <td>Pvt Ltd</td>\n",
       "      <td>2</td>\n",
       "      <td>97</td>\n",
       "      <td>0.0</td>\n",
       "    </tr>\n",
       "    <tr>\n",
       "      <th>19157</th>\n",
       "      <td>23834</td>\n",
       "      <td>0.855</td>\n",
       "      <td>NaN</td>\n",
       "      <td>No relevent experience</td>\n",
       "      <td>no_enrollment</td>\n",
       "      <td>Primary School</td>\n",
       "      <td>NaN</td>\n",
       "      <td>2</td>\n",
       "      <td>NaN</td>\n",
       "      <td>NaN</td>\n",
       "      <td>1</td>\n",
       "      <td>127</td>\n",
       "      <td>0.0</td>\n",
       "    </tr>\n",
       "  </tbody>\n",
       "</table>\n",
       "<p>19158 rows × 13 columns</p>\n",
       "</div>"
      ],
      "text/plain": [
       "       enrollee_id  city_development_index gender      relevent_experience  \\\n",
       "0             8949                   0.920   Male  Has relevent experience   \n",
       "1            29725                   0.776   Male   No relevent experience   \n",
       "2            11561                   0.624    NaN   No relevent experience   \n",
       "3            33241                   0.789    NaN   No relevent experience   \n",
       "4              666                   0.767   Male  Has relevent experience   \n",
       "...            ...                     ...    ...                      ...   \n",
       "19153         7386                   0.878   Male   No relevent experience   \n",
       "19154        31398                   0.920   Male  Has relevent experience   \n",
       "19155        24576                   0.920   Male  Has relevent experience   \n",
       "19156         5756                   0.802   Male  Has relevent experience   \n",
       "19157        23834                   0.855    NaN   No relevent experience   \n",
       "\n",
       "      enrolled_university education_level major_discipline experience  \\\n",
       "0           no_enrollment        Graduate             STEM        >20   \n",
       "1           no_enrollment        Graduate             STEM         15   \n",
       "2        Full time course        Graduate             STEM          5   \n",
       "3                     NaN        Graduate  Business Degree         <1   \n",
       "4           no_enrollment         Masters             STEM        >20   \n",
       "...                   ...             ...              ...        ...   \n",
       "19153       no_enrollment        Graduate       Humanities         14   \n",
       "19154       no_enrollment        Graduate             STEM         14   \n",
       "19155       no_enrollment        Graduate             STEM        >20   \n",
       "19156       no_enrollment     High School              NaN         <1   \n",
       "19157       no_enrollment  Primary School              NaN          2   \n",
       "\n",
       "      company_size    company_type last_new_job  training_hours  target  \n",
       "0              NaN             NaN            1              36     1.0  \n",
       "1            50-99         Pvt Ltd           >4              47     0.0  \n",
       "2              NaN             NaN        never              83     0.0  \n",
       "3              NaN         Pvt Ltd        never              52     1.0  \n",
       "4            50-99  Funded Startup            4               8     0.0  \n",
       "...            ...             ...          ...             ...     ...  \n",
       "19153          NaN             NaN            1              42     1.0  \n",
       "19154          NaN             NaN            4              52     1.0  \n",
       "19155        50-99         Pvt Ltd            4              44     0.0  \n",
       "19156      500-999         Pvt Ltd            2              97     0.0  \n",
       "19157          NaN             NaN            1             127     0.0  \n",
       "\n",
       "[19158 rows x 13 columns]"
      ]
     },
     "execution_count": 9,
     "metadata": {},
     "output_type": "execute_result"
    }
   ],
   "source": [
    "df"
   ]
  },
  {
   "cell_type": "code",
   "execution_count": 6,
   "metadata": {},
   "outputs": [],
   "source": [
    "df['target'] = df['target'].astype('int')"
   ]
  },
  {
   "cell_type": "code",
   "execution_count": 7,
   "metadata": {},
   "outputs": [
    {
     "data": {
      "text/html": [
       "<div>\n",
       "<style scoped>\n",
       "    .dataframe tbody tr th:only-of-type {\n",
       "        vertical-align: middle;\n",
       "    }\n",
       "\n",
       "    .dataframe tbody tr th {\n",
       "        vertical-align: top;\n",
       "    }\n",
       "\n",
       "    .dataframe thead th {\n",
       "        text-align: right;\n",
       "    }\n",
       "</style>\n",
       "<table border=\"1\" class=\"dataframe\">\n",
       "  <thead>\n",
       "    <tr style=\"text-align: right;\">\n",
       "      <th></th>\n",
       "      <th>enrollee_id</th>\n",
       "      <th>city_development_index</th>\n",
       "      <th>gender</th>\n",
       "      <th>relevent_experience</th>\n",
       "      <th>enrolled_university</th>\n",
       "      <th>education_level</th>\n",
       "      <th>major_discipline</th>\n",
       "      <th>experience</th>\n",
       "      <th>company_size</th>\n",
       "      <th>company_type</th>\n",
       "      <th>last_new_job</th>\n",
       "      <th>training_hours</th>\n",
       "      <th>target</th>\n",
       "    </tr>\n",
       "  </thead>\n",
       "  <tbody>\n",
       "    <tr>\n",
       "      <th>0</th>\n",
       "      <td>8949</td>\n",
       "      <td>0.920</td>\n",
       "      <td>Male</td>\n",
       "      <td>1</td>\n",
       "      <td>no_enrollment</td>\n",
       "      <td>Graduate</td>\n",
       "      <td>STEM</td>\n",
       "      <td>&gt;20</td>\n",
       "      <td>NaN</td>\n",
       "      <td>NaN</td>\n",
       "      <td>1</td>\n",
       "      <td>36</td>\n",
       "      <td>1</td>\n",
       "    </tr>\n",
       "    <tr>\n",
       "      <th>1</th>\n",
       "      <td>29725</td>\n",
       "      <td>0.776</td>\n",
       "      <td>Male</td>\n",
       "      <td>0</td>\n",
       "      <td>no_enrollment</td>\n",
       "      <td>Graduate</td>\n",
       "      <td>STEM</td>\n",
       "      <td>15</td>\n",
       "      <td>50-99</td>\n",
       "      <td>Pvt Ltd</td>\n",
       "      <td>&gt;4</td>\n",
       "      <td>47</td>\n",
       "      <td>0</td>\n",
       "    </tr>\n",
       "    <tr>\n",
       "      <th>2</th>\n",
       "      <td>11561</td>\n",
       "      <td>0.624</td>\n",
       "      <td>NaN</td>\n",
       "      <td>0</td>\n",
       "      <td>Full time course</td>\n",
       "      <td>Graduate</td>\n",
       "      <td>STEM</td>\n",
       "      <td>5</td>\n",
       "      <td>NaN</td>\n",
       "      <td>NaN</td>\n",
       "      <td>never</td>\n",
       "      <td>83</td>\n",
       "      <td>0</td>\n",
       "    </tr>\n",
       "    <tr>\n",
       "      <th>3</th>\n",
       "      <td>33241</td>\n",
       "      <td>0.789</td>\n",
       "      <td>NaN</td>\n",
       "      <td>0</td>\n",
       "      <td>NaN</td>\n",
       "      <td>Graduate</td>\n",
       "      <td>Business Degree</td>\n",
       "      <td>&lt;1</td>\n",
       "      <td>NaN</td>\n",
       "      <td>Pvt Ltd</td>\n",
       "      <td>never</td>\n",
       "      <td>52</td>\n",
       "      <td>1</td>\n",
       "    </tr>\n",
       "    <tr>\n",
       "      <th>4</th>\n",
       "      <td>666</td>\n",
       "      <td>0.767</td>\n",
       "      <td>Male</td>\n",
       "      <td>1</td>\n",
       "      <td>no_enrollment</td>\n",
       "      <td>Masters</td>\n",
       "      <td>STEM</td>\n",
       "      <td>&gt;20</td>\n",
       "      <td>50-99</td>\n",
       "      <td>Funded Startup</td>\n",
       "      <td>4</td>\n",
       "      <td>8</td>\n",
       "      <td>0</td>\n",
       "    </tr>\n",
       "    <tr>\n",
       "      <th>...</th>\n",
       "      <td>...</td>\n",
       "      <td>...</td>\n",
       "      <td>...</td>\n",
       "      <td>...</td>\n",
       "      <td>...</td>\n",
       "      <td>...</td>\n",
       "      <td>...</td>\n",
       "      <td>...</td>\n",
       "      <td>...</td>\n",
       "      <td>...</td>\n",
       "      <td>...</td>\n",
       "      <td>...</td>\n",
       "      <td>...</td>\n",
       "    </tr>\n",
       "    <tr>\n",
       "      <th>19153</th>\n",
       "      <td>7386</td>\n",
       "      <td>0.878</td>\n",
       "      <td>Male</td>\n",
       "      <td>0</td>\n",
       "      <td>no_enrollment</td>\n",
       "      <td>Graduate</td>\n",
       "      <td>Humanities</td>\n",
       "      <td>14</td>\n",
       "      <td>NaN</td>\n",
       "      <td>NaN</td>\n",
       "      <td>1</td>\n",
       "      <td>42</td>\n",
       "      <td>1</td>\n",
       "    </tr>\n",
       "    <tr>\n",
       "      <th>19154</th>\n",
       "      <td>31398</td>\n",
       "      <td>0.920</td>\n",
       "      <td>Male</td>\n",
       "      <td>1</td>\n",
       "      <td>no_enrollment</td>\n",
       "      <td>Graduate</td>\n",
       "      <td>STEM</td>\n",
       "      <td>14</td>\n",
       "      <td>NaN</td>\n",
       "      <td>NaN</td>\n",
       "      <td>4</td>\n",
       "      <td>52</td>\n",
       "      <td>1</td>\n",
       "    </tr>\n",
       "    <tr>\n",
       "      <th>19155</th>\n",
       "      <td>24576</td>\n",
       "      <td>0.920</td>\n",
       "      <td>Male</td>\n",
       "      <td>1</td>\n",
       "      <td>no_enrollment</td>\n",
       "      <td>Graduate</td>\n",
       "      <td>STEM</td>\n",
       "      <td>&gt;20</td>\n",
       "      <td>50-99</td>\n",
       "      <td>Pvt Ltd</td>\n",
       "      <td>4</td>\n",
       "      <td>44</td>\n",
       "      <td>0</td>\n",
       "    </tr>\n",
       "    <tr>\n",
       "      <th>19156</th>\n",
       "      <td>5756</td>\n",
       "      <td>0.802</td>\n",
       "      <td>Male</td>\n",
       "      <td>1</td>\n",
       "      <td>no_enrollment</td>\n",
       "      <td>High School</td>\n",
       "      <td>NaN</td>\n",
       "      <td>&lt;1</td>\n",
       "      <td>500-999</td>\n",
       "      <td>Pvt Ltd</td>\n",
       "      <td>2</td>\n",
       "      <td>97</td>\n",
       "      <td>0</td>\n",
       "    </tr>\n",
       "    <tr>\n",
       "      <th>19157</th>\n",
       "      <td>23834</td>\n",
       "      <td>0.855</td>\n",
       "      <td>NaN</td>\n",
       "      <td>0</td>\n",
       "      <td>no_enrollment</td>\n",
       "      <td>Primary School</td>\n",
       "      <td>NaN</td>\n",
       "      <td>2</td>\n",
       "      <td>NaN</td>\n",
       "      <td>NaN</td>\n",
       "      <td>1</td>\n",
       "      <td>127</td>\n",
       "      <td>0</td>\n",
       "    </tr>\n",
       "  </tbody>\n",
       "</table>\n",
       "<p>19158 rows × 13 columns</p>\n",
       "</div>"
      ],
      "text/plain": [
       "       enrollee_id  city_development_index gender  relevent_experience  \\\n",
       "0             8949                   0.920   Male                    1   \n",
       "1            29725                   0.776   Male                    0   \n",
       "2            11561                   0.624    NaN                    0   \n",
       "3            33241                   0.789    NaN                    0   \n",
       "4              666                   0.767   Male                    1   \n",
       "...            ...                     ...    ...                  ...   \n",
       "19153         7386                   0.878   Male                    0   \n",
       "19154        31398                   0.920   Male                    1   \n",
       "19155        24576                   0.920   Male                    1   \n",
       "19156         5756                   0.802   Male                    1   \n",
       "19157        23834                   0.855    NaN                    0   \n",
       "\n",
       "      enrolled_university education_level major_discipline experience  \\\n",
       "0           no_enrollment        Graduate             STEM        >20   \n",
       "1           no_enrollment        Graduate             STEM         15   \n",
       "2        Full time course        Graduate             STEM          5   \n",
       "3                     NaN        Graduate  Business Degree         <1   \n",
       "4           no_enrollment         Masters             STEM        >20   \n",
       "...                   ...             ...              ...        ...   \n",
       "19153       no_enrollment        Graduate       Humanities         14   \n",
       "19154       no_enrollment        Graduate             STEM         14   \n",
       "19155       no_enrollment        Graduate             STEM        >20   \n",
       "19156       no_enrollment     High School              NaN         <1   \n",
       "19157       no_enrollment  Primary School              NaN          2   \n",
       "\n",
       "      company_size    company_type last_new_job  training_hours  target  \n",
       "0              NaN             NaN            1              36       1  \n",
       "1            50-99         Pvt Ltd           >4              47       0  \n",
       "2              NaN             NaN        never              83       0  \n",
       "3              NaN         Pvt Ltd        never              52       1  \n",
       "4            50-99  Funded Startup            4               8       0  \n",
       "...            ...             ...          ...             ...     ...  \n",
       "19153          NaN             NaN            1              42       1  \n",
       "19154          NaN             NaN            4              52       1  \n",
       "19155        50-99         Pvt Ltd            4              44       0  \n",
       "19156      500-999         Pvt Ltd            2              97       0  \n",
       "19157          NaN             NaN            1             127       0  \n",
       "\n",
       "[19158 rows x 13 columns]"
      ]
     },
     "execution_count": 7,
     "metadata": {},
     "output_type": "execute_result"
    }
   ],
   "source": [
    "df= df.replace({'relevent_experience': {'Has relevent experience': 1, 'No relevent experience': 0}})\n",
    "df"
   ]
  },
  {
   "cell_type": "code",
   "execution_count": 8,
   "metadata": {},
   "outputs": [],
   "source": [
    "for col in df:\n",
    "    if df[col].isnull().any():\n",
    "        df[col] = df[col].fillna(df[col].mode()[0])"
   ]
  },
  {
   "cell_type": "code",
   "execution_count": 13,
   "metadata": {},
   "outputs": [
    {
     "data": {
      "text/plain": [
       "enrollee_id               0\n",
       "city_development_index    0\n",
       "gender                    0\n",
       "relevent_experience       0\n",
       "enrolled_university       0\n",
       "education_level           0\n",
       "major_discipline          0\n",
       "experience                0\n",
       "company_size              0\n",
       "company_type              0\n",
       "last_new_job              0\n",
       "training_hours            0\n",
       "target                    0\n",
       "dtype: int64"
      ]
     },
     "execution_count": 13,
     "metadata": {},
     "output_type": "execute_result"
    }
   ],
   "source": [
    "df.isnull().sum()"
   ]
  },
  {
   "cell_type": "code",
   "execution_count": 9,
   "metadata": {},
   "outputs": [],
   "source": [
    "df['company_size'] = df['company_size'].str.replace('10/49', '10-49')"
   ]
  },
  {
   "cell_type": "code",
   "execution_count": 10,
   "metadata": {
    "scrolled": true
   },
   "outputs": [
    {
     "data": {
      "text/plain": [
       "['ohe.joblib']"
      ]
     },
     "execution_count": 10,
     "metadata": {},
     "output_type": "execute_result"
    }
   ],
   "source": [
    "nominal = ['gender','enrolled_university', 'education_level', 'major_discipline', 'experience',\n",
    "           'company_size', 'company_type', 'last_new_job']\n",
    "from sklearn.preprocessing import OneHotEncoder\n",
    "ohe=OneHotEncoder(drop='first')\n",
    "hasil_ohe=ohe.fit(df[nominal])\n",
    "df[hasil_ohe.get_feature_names(nominal)] = hasil_ohe.transform(df[nominal]).toarray()\n",
    "df[hasil_ohe.get_feature_names(nominal)] = df[hasil_ohe.get_feature_names(nominal)].astype('int64')\n",
    "\n",
    "import joblib\n",
    "joblib.dump(hasil_ohe,\"ohe.joblib\")"
   ]
  },
  {
   "cell_type": "code",
   "execution_count": 11,
   "metadata": {},
   "outputs": [],
   "source": [
    "df.drop(columns=nominal, inplace=True)"
   ]
  },
  {
   "cell_type": "code",
   "execution_count": 17,
   "metadata": {},
   "outputs": [
    {
     "data": {
      "text/html": [
       "<div>\n",
       "<style scoped>\n",
       "    .dataframe tbody tr th:only-of-type {\n",
       "        vertical-align: middle;\n",
       "    }\n",
       "\n",
       "    .dataframe tbody tr th {\n",
       "        vertical-align: top;\n",
       "    }\n",
       "\n",
       "    .dataframe thead th {\n",
       "        text-align: right;\n",
       "    }\n",
       "</style>\n",
       "<table border=\"1\" class=\"dataframe\">\n",
       "  <thead>\n",
       "    <tr style=\"text-align: right;\">\n",
       "      <th></th>\n",
       "      <th>enrollee_id</th>\n",
       "      <th>city_development_index</th>\n",
       "      <th>relevent_experience</th>\n",
       "      <th>training_hours</th>\n",
       "      <th>target</th>\n",
       "      <th>gender_Male</th>\n",
       "      <th>gender_Other</th>\n",
       "      <th>enrolled_university_Part time course</th>\n",
       "      <th>enrolled_university_no_enrollment</th>\n",
       "      <th>education_level_High School</th>\n",
       "      <th>...</th>\n",
       "      <th>company_type_Funded Startup</th>\n",
       "      <th>company_type_NGO</th>\n",
       "      <th>company_type_Other</th>\n",
       "      <th>company_type_Public Sector</th>\n",
       "      <th>company_type_Pvt Ltd</th>\n",
       "      <th>last_new_job_2</th>\n",
       "      <th>last_new_job_3</th>\n",
       "      <th>last_new_job_4</th>\n",
       "      <th>last_new_job_&gt;4</th>\n",
       "      <th>last_new_job_never</th>\n",
       "    </tr>\n",
       "  </thead>\n",
       "  <tbody>\n",
       "    <tr>\n",
       "      <th>0</th>\n",
       "      <td>8949</td>\n",
       "      <td>0.920</td>\n",
       "      <td>1</td>\n",
       "      <td>36</td>\n",
       "      <td>1</td>\n",
       "      <td>1</td>\n",
       "      <td>0</td>\n",
       "      <td>0</td>\n",
       "      <td>1</td>\n",
       "      <td>0</td>\n",
       "      <td>...</td>\n",
       "      <td>0</td>\n",
       "      <td>0</td>\n",
       "      <td>0</td>\n",
       "      <td>0</td>\n",
       "      <td>1</td>\n",
       "      <td>0</td>\n",
       "      <td>0</td>\n",
       "      <td>0</td>\n",
       "      <td>0</td>\n",
       "      <td>0</td>\n",
       "    </tr>\n",
       "    <tr>\n",
       "      <th>1</th>\n",
       "      <td>29725</td>\n",
       "      <td>0.776</td>\n",
       "      <td>0</td>\n",
       "      <td>47</td>\n",
       "      <td>0</td>\n",
       "      <td>1</td>\n",
       "      <td>0</td>\n",
       "      <td>0</td>\n",
       "      <td>1</td>\n",
       "      <td>0</td>\n",
       "      <td>...</td>\n",
       "      <td>0</td>\n",
       "      <td>0</td>\n",
       "      <td>0</td>\n",
       "      <td>0</td>\n",
       "      <td>1</td>\n",
       "      <td>0</td>\n",
       "      <td>0</td>\n",
       "      <td>0</td>\n",
       "      <td>1</td>\n",
       "      <td>0</td>\n",
       "    </tr>\n",
       "    <tr>\n",
       "      <th>2</th>\n",
       "      <td>11561</td>\n",
       "      <td>0.624</td>\n",
       "      <td>0</td>\n",
       "      <td>83</td>\n",
       "      <td>0</td>\n",
       "      <td>1</td>\n",
       "      <td>0</td>\n",
       "      <td>0</td>\n",
       "      <td>0</td>\n",
       "      <td>0</td>\n",
       "      <td>...</td>\n",
       "      <td>0</td>\n",
       "      <td>0</td>\n",
       "      <td>0</td>\n",
       "      <td>0</td>\n",
       "      <td>1</td>\n",
       "      <td>0</td>\n",
       "      <td>0</td>\n",
       "      <td>0</td>\n",
       "      <td>0</td>\n",
       "      <td>1</td>\n",
       "    </tr>\n",
       "    <tr>\n",
       "      <th>3</th>\n",
       "      <td>33241</td>\n",
       "      <td>0.789</td>\n",
       "      <td>0</td>\n",
       "      <td>52</td>\n",
       "      <td>1</td>\n",
       "      <td>1</td>\n",
       "      <td>0</td>\n",
       "      <td>0</td>\n",
       "      <td>1</td>\n",
       "      <td>0</td>\n",
       "      <td>...</td>\n",
       "      <td>0</td>\n",
       "      <td>0</td>\n",
       "      <td>0</td>\n",
       "      <td>0</td>\n",
       "      <td>1</td>\n",
       "      <td>0</td>\n",
       "      <td>0</td>\n",
       "      <td>0</td>\n",
       "      <td>0</td>\n",
       "      <td>1</td>\n",
       "    </tr>\n",
       "    <tr>\n",
       "      <th>4</th>\n",
       "      <td>666</td>\n",
       "      <td>0.767</td>\n",
       "      <td>1</td>\n",
       "      <td>8</td>\n",
       "      <td>0</td>\n",
       "      <td>1</td>\n",
       "      <td>0</td>\n",
       "      <td>0</td>\n",
       "      <td>1</td>\n",
       "      <td>0</td>\n",
       "      <td>...</td>\n",
       "      <td>1</td>\n",
       "      <td>0</td>\n",
       "      <td>0</td>\n",
       "      <td>0</td>\n",
       "      <td>0</td>\n",
       "      <td>0</td>\n",
       "      <td>0</td>\n",
       "      <td>1</td>\n",
       "      <td>0</td>\n",
       "      <td>0</td>\n",
       "    </tr>\n",
       "    <tr>\n",
       "      <th>...</th>\n",
       "      <td>...</td>\n",
       "      <td>...</td>\n",
       "      <td>...</td>\n",
       "      <td>...</td>\n",
       "      <td>...</td>\n",
       "      <td>...</td>\n",
       "      <td>...</td>\n",
       "      <td>...</td>\n",
       "      <td>...</td>\n",
       "      <td>...</td>\n",
       "      <td>...</td>\n",
       "      <td>...</td>\n",
       "      <td>...</td>\n",
       "      <td>...</td>\n",
       "      <td>...</td>\n",
       "      <td>...</td>\n",
       "      <td>...</td>\n",
       "      <td>...</td>\n",
       "      <td>...</td>\n",
       "      <td>...</td>\n",
       "      <td>...</td>\n",
       "    </tr>\n",
       "    <tr>\n",
       "      <th>19153</th>\n",
       "      <td>7386</td>\n",
       "      <td>0.878</td>\n",
       "      <td>0</td>\n",
       "      <td>42</td>\n",
       "      <td>1</td>\n",
       "      <td>1</td>\n",
       "      <td>0</td>\n",
       "      <td>0</td>\n",
       "      <td>1</td>\n",
       "      <td>0</td>\n",
       "      <td>...</td>\n",
       "      <td>0</td>\n",
       "      <td>0</td>\n",
       "      <td>0</td>\n",
       "      <td>0</td>\n",
       "      <td>1</td>\n",
       "      <td>0</td>\n",
       "      <td>0</td>\n",
       "      <td>0</td>\n",
       "      <td>0</td>\n",
       "      <td>0</td>\n",
       "    </tr>\n",
       "    <tr>\n",
       "      <th>19154</th>\n",
       "      <td>31398</td>\n",
       "      <td>0.920</td>\n",
       "      <td>1</td>\n",
       "      <td>52</td>\n",
       "      <td>1</td>\n",
       "      <td>1</td>\n",
       "      <td>0</td>\n",
       "      <td>0</td>\n",
       "      <td>1</td>\n",
       "      <td>0</td>\n",
       "      <td>...</td>\n",
       "      <td>0</td>\n",
       "      <td>0</td>\n",
       "      <td>0</td>\n",
       "      <td>0</td>\n",
       "      <td>1</td>\n",
       "      <td>0</td>\n",
       "      <td>0</td>\n",
       "      <td>1</td>\n",
       "      <td>0</td>\n",
       "      <td>0</td>\n",
       "    </tr>\n",
       "    <tr>\n",
       "      <th>19155</th>\n",
       "      <td>24576</td>\n",
       "      <td>0.920</td>\n",
       "      <td>1</td>\n",
       "      <td>44</td>\n",
       "      <td>0</td>\n",
       "      <td>1</td>\n",
       "      <td>0</td>\n",
       "      <td>0</td>\n",
       "      <td>1</td>\n",
       "      <td>0</td>\n",
       "      <td>...</td>\n",
       "      <td>0</td>\n",
       "      <td>0</td>\n",
       "      <td>0</td>\n",
       "      <td>0</td>\n",
       "      <td>1</td>\n",
       "      <td>0</td>\n",
       "      <td>0</td>\n",
       "      <td>1</td>\n",
       "      <td>0</td>\n",
       "      <td>0</td>\n",
       "    </tr>\n",
       "    <tr>\n",
       "      <th>19156</th>\n",
       "      <td>5756</td>\n",
       "      <td>0.802</td>\n",
       "      <td>1</td>\n",
       "      <td>97</td>\n",
       "      <td>0</td>\n",
       "      <td>1</td>\n",
       "      <td>0</td>\n",
       "      <td>0</td>\n",
       "      <td>1</td>\n",
       "      <td>1</td>\n",
       "      <td>...</td>\n",
       "      <td>0</td>\n",
       "      <td>0</td>\n",
       "      <td>0</td>\n",
       "      <td>0</td>\n",
       "      <td>1</td>\n",
       "      <td>1</td>\n",
       "      <td>0</td>\n",
       "      <td>0</td>\n",
       "      <td>0</td>\n",
       "      <td>0</td>\n",
       "    </tr>\n",
       "    <tr>\n",
       "      <th>19157</th>\n",
       "      <td>23834</td>\n",
       "      <td>0.855</td>\n",
       "      <td>0</td>\n",
       "      <td>127</td>\n",
       "      <td>0</td>\n",
       "      <td>1</td>\n",
       "      <td>0</td>\n",
       "      <td>0</td>\n",
       "      <td>1</td>\n",
       "      <td>0</td>\n",
       "      <td>...</td>\n",
       "      <td>0</td>\n",
       "      <td>0</td>\n",
       "      <td>0</td>\n",
       "      <td>0</td>\n",
       "      <td>1</td>\n",
       "      <td>0</td>\n",
       "      <td>0</td>\n",
       "      <td>0</td>\n",
       "      <td>0</td>\n",
       "      <td>0</td>\n",
       "    </tr>\n",
       "  </tbody>\n",
       "</table>\n",
       "<p>19158 rows × 56 columns</p>\n",
       "</div>"
      ],
      "text/plain": [
       "       enrollee_id  city_development_index  relevent_experience  \\\n",
       "0             8949                   0.920                    1   \n",
       "1            29725                   0.776                    0   \n",
       "2            11561                   0.624                    0   \n",
       "3            33241                   0.789                    0   \n",
       "4              666                   0.767                    1   \n",
       "...            ...                     ...                  ...   \n",
       "19153         7386                   0.878                    0   \n",
       "19154        31398                   0.920                    1   \n",
       "19155        24576                   0.920                    1   \n",
       "19156         5756                   0.802                    1   \n",
       "19157        23834                   0.855                    0   \n",
       "\n",
       "       training_hours  target  gender_Male  gender_Other  \\\n",
       "0                  36       1            1             0   \n",
       "1                  47       0            1             0   \n",
       "2                  83       0            1             0   \n",
       "3                  52       1            1             0   \n",
       "4                   8       0            1             0   \n",
       "...               ...     ...          ...           ...   \n",
       "19153              42       1            1             0   \n",
       "19154              52       1            1             0   \n",
       "19155              44       0            1             0   \n",
       "19156              97       0            1             0   \n",
       "19157             127       0            1             0   \n",
       "\n",
       "       enrolled_university_Part time course  \\\n",
       "0                                         0   \n",
       "1                                         0   \n",
       "2                                         0   \n",
       "3                                         0   \n",
       "4                                         0   \n",
       "...                                     ...   \n",
       "19153                                     0   \n",
       "19154                                     0   \n",
       "19155                                     0   \n",
       "19156                                     0   \n",
       "19157                                     0   \n",
       "\n",
       "       enrolled_university_no_enrollment  education_level_High School  ...  \\\n",
       "0                                      1                            0  ...   \n",
       "1                                      1                            0  ...   \n",
       "2                                      0                            0  ...   \n",
       "3                                      1                            0  ...   \n",
       "4                                      1                            0  ...   \n",
       "...                                  ...                          ...  ...   \n",
       "19153                                  1                            0  ...   \n",
       "19154                                  1                            0  ...   \n",
       "19155                                  1                            0  ...   \n",
       "19156                                  1                            1  ...   \n",
       "19157                                  1                            0  ...   \n",
       "\n",
       "       company_type_Funded Startup  company_type_NGO  company_type_Other  \\\n",
       "0                                0                 0                   0   \n",
       "1                                0                 0                   0   \n",
       "2                                0                 0                   0   \n",
       "3                                0                 0                   0   \n",
       "4                                1                 0                   0   \n",
       "...                            ...               ...                 ...   \n",
       "19153                            0                 0                   0   \n",
       "19154                            0                 0                   0   \n",
       "19155                            0                 0                   0   \n",
       "19156                            0                 0                   0   \n",
       "19157                            0                 0                   0   \n",
       "\n",
       "       company_type_Public Sector  company_type_Pvt Ltd  last_new_job_2  \\\n",
       "0                               0                     1               0   \n",
       "1                               0                     1               0   \n",
       "2                               0                     1               0   \n",
       "3                               0                     1               0   \n",
       "4                               0                     0               0   \n",
       "...                           ...                   ...             ...   \n",
       "19153                           0                     1               0   \n",
       "19154                           0                     1               0   \n",
       "19155                           0                     1               0   \n",
       "19156                           0                     1               1   \n",
       "19157                           0                     1               0   \n",
       "\n",
       "       last_new_job_3  last_new_job_4  last_new_job_>4  last_new_job_never  \n",
       "0                   0               0                0                   0  \n",
       "1                   0               0                1                   0  \n",
       "2                   0               0                0                   1  \n",
       "3                   0               0                0                   1  \n",
       "4                   0               1                0                   0  \n",
       "...               ...             ...              ...                 ...  \n",
       "19153               0               0                0                   0  \n",
       "19154               0               1                0                   0  \n",
       "19155               0               1                0                   0  \n",
       "19156               0               0                0                   0  \n",
       "19157               0               0                0                   0  \n",
       "\n",
       "[19158 rows x 56 columns]"
      ]
     },
     "execution_count": 17,
     "metadata": {},
     "output_type": "execute_result"
    }
   ],
   "source": [
    "df"
   ]
  },
  {
   "cell_type": "code",
   "execution_count": null,
   "metadata": {},
   "outputs": [],
   "source": []
  },
  {
   "cell_type": "code",
   "execution_count": 12,
   "metadata": {},
   "outputs": [],
   "source": [
    "from imblearn.over_sampling import SMOTE\n",
    "\n",
    "#handle imbalance class using oversampling minority class with smote method\n",
    "os = SMOTE(sampling_strategy='minority',random_state = 123,k_neighbors=5)\n",
    "df2=df\n",
    "x_ = df2.drop(columns=['enrollee_id', 'target'], axis=1)\n",
    "y_ = df2['target']\n",
    "smote_x, smote_y = os.fit_resample(x_,y_)"
   ]
  },
  {
   "cell_type": "code",
   "execution_count": null,
   "metadata": {},
   "outputs": [],
   "source": [
    "smote_y.value_counts()"
   ]
  },
  {
   "cell_type": "code",
   "execution_count": 13,
   "metadata": {},
   "outputs": [],
   "source": [
    "from sklearn.model_selection import train_test_split\n",
    "train_smote_X, test_smote_X, train_smote_Y, test_smote_Y = train_test_split(smote_x, smote_y, test_size=0.2,\n",
    "                                                                           random_state=111)"
   ]
  },
  {
   "cell_type": "markdown",
   "metadata": {},
   "source": [
    "# ANN"
   ]
  },
  {
   "cell_type": "code",
   "execution_count": 25,
   "metadata": {},
   "outputs": [],
   "source": [
    "#Design ANN model\n",
    "from keras.models import Sequential\n",
    "from keras.layers import Dense, Dropout\n",
    "\n",
    "def create_model(optimizer='adam'):\n",
    "    classifier = Sequential()\n",
    "    classifier.add(Dense(units = 16, input_dim = 54, activation = 'relu'))\n",
    "    classifier.add(Dense(units = 24, activation = 'relu'))\n",
    "    classifier.add(Dropout(0.25))\n",
    "    classifier.add(Dense(units = 20, activation = 'relu'))\n",
    "    classifier.add(Dense(units = 24, activation = 'relu'))\n",
    "    classifier.add(Dense(units = 1, activation = 'sigmoid'))\n",
    "    classifier.compile(optimizer = optimizer, loss = 'binary_crossentropy',\n",
    "                   metrics =['accuracy'])\n",
    "    return classifier\n"
   ]
  },
  {
   "cell_type": "code",
   "execution_count": 23,
   "metadata": {},
   "outputs": [],
   "source": [
    "from sklearn.model_selection import GridSearchCV\n",
    "from keras.wrappers.scikit_learn import KerasClassifier\n",
    "\n",
    "\n",
    "param_ann = {'optimizer':['SGD', 'RMSprop','Adam', 'Adamax', 'Nadam']}"
   ]
  },
  {
   "cell_type": "code",
   "execution_count": 26,
   "metadata": {},
   "outputs": [
    {
     "name": "stdout",
     "output_type": "stream",
     "text": [
      "Epoch 1/100\n",
      "360/360 [==============================] - 1s 2ms/step - loss: 0.7293 - accuracy: 0.5331\n",
      "Epoch 2/100\n",
      "360/360 [==============================] - 1s 2ms/step - loss: 0.6897 - accuracy: 0.5782\n",
      "Epoch 3/100\n",
      "360/360 [==============================] - 1s 2ms/step - loss: 0.6593 - accuracy: 0.6250\n",
      "Epoch 4/100\n",
      "360/360 [==============================] - 1s 2ms/step - loss: 0.6224 - accuracy: 0.6618\n",
      "Epoch 5/100\n",
      "360/360 [==============================] - 1s 2ms/step - loss: 0.5908 - accuracy: 0.6933\n",
      "Epoch 6/100\n",
      "360/360 [==============================] - 1s 2ms/step - loss: 0.5654 - accuracy: 0.7143\n",
      "Epoch 7/100\n",
      "360/360 [==============================] - 1s 2ms/step - loss: 0.5477 - accuracy: 0.7318\n",
      "Epoch 8/100\n",
      "360/360 [==============================] - 1s 2ms/step - loss: 0.5326 - accuracy: 0.7433\n",
      "Epoch 9/100\n",
      "360/360 [==============================] - 1s 2ms/step - loss: 0.5225 - accuracy: 0.7510\n",
      "Epoch 10/100\n",
      "360/360 [==============================] - 1s 2ms/step - loss: 0.5100 - accuracy: 0.7588\n",
      "Epoch 11/100\n",
      "360/360 [==============================] - 1s 2ms/step - loss: 0.4986 - accuracy: 0.7674\n",
      "Epoch 12/100\n",
      "360/360 [==============================] - 1s 2ms/step - loss: 0.4883 - accuracy: 0.7698\n",
      "Epoch 13/100\n",
      "360/360 [==============================] - 1s 2ms/step - loss: 0.4782 - accuracy: 0.7761\n",
      "Epoch 14/100\n",
      "360/360 [==============================] - 1s 2ms/step - loss: 0.4771 - accuracy: 0.7784\n",
      "Epoch 15/100\n",
      "360/360 [==============================] - 1s 2ms/step - loss: 0.4700 - accuracy: 0.7832\n",
      "Epoch 16/100\n",
      "360/360 [==============================] - 1s 2ms/step - loss: 0.4660 - accuracy: 0.7819\n",
      "Epoch 17/100\n",
      "360/360 [==============================] - 1s 2ms/step - loss: 0.4621 - accuracy: 0.7853\n",
      "Epoch 18/100\n",
      "360/360 [==============================] - 1s 2ms/step - loss: 0.4571 - accuracy: 0.7889\n",
      "Epoch 19/100\n",
      "360/360 [==============================] - 1s 2ms/step - loss: 0.4535 - accuracy: 0.7883\n",
      "Epoch 20/100\n",
      "360/360 [==============================] - 1s 2ms/step - loss: 0.4550 - accuracy: 0.7900\n",
      "Epoch 21/100\n",
      "360/360 [==============================] - 1s 2ms/step - loss: 0.4527 - accuracy: 0.7906\n",
      "Epoch 22/100\n",
      "360/360 [==============================] - 1s 2ms/step - loss: 0.4525 - accuracy: 0.7914\n",
      "Epoch 23/100\n",
      "360/360 [==============================] - 1s 2ms/step - loss: 0.4465 - accuracy: 0.7940\n",
      "Epoch 24/100\n",
      "360/360 [==============================] - 1s 2ms/step - loss: 0.4481 - accuracy: 0.7930\n",
      "Epoch 25/100\n",
      "360/360 [==============================] - 1s 2ms/step - loss: 0.4471 - accuracy: 0.7913\n",
      "Epoch 26/100\n",
      "360/360 [==============================] - 1s 2ms/step - loss: 0.4458 - accuracy: 0.7916\n",
      "Epoch 27/100\n",
      "360/360 [==============================] - 1s 2ms/step - loss: 0.4417 - accuracy: 0.7955\n",
      "Epoch 28/100\n",
      "360/360 [==============================] - 1s 2ms/step - loss: 0.4425 - accuracy: 0.7962\n",
      "Epoch 29/100\n",
      "360/360 [==============================] - 1s 2ms/step - loss: 0.4421 - accuracy: 0.7970\n",
      "Epoch 30/100\n",
      "360/360 [==============================] - 1s 2ms/step - loss: 0.4415 - accuracy: 0.7959\n",
      "Epoch 31/100\n",
      "360/360 [==============================] - 1s 2ms/step - loss: 0.4421 - accuracy: 0.7946\n",
      "Epoch 32/100\n",
      "360/360 [==============================] - 1s 2ms/step - loss: 0.4376 - accuracy: 0.7984\n",
      "Epoch 33/100\n",
      "360/360 [==============================] - 1s 2ms/step - loss: 0.4377 - accuracy: 0.7994\n",
      "Epoch 34/100\n",
      "360/360 [==============================] - 1s 2ms/step - loss: 0.4364 - accuracy: 0.7986\n",
      "Epoch 35/100\n",
      "360/360 [==============================] - 1s 2ms/step - loss: 0.4368 - accuracy: 0.7989\n",
      "Epoch 36/100\n",
      "360/360 [==============================] - 1s 2ms/step - loss: 0.4338 - accuracy: 0.8011\n",
      "Epoch 37/100\n",
      "360/360 [==============================] - 1s 2ms/step - loss: 0.4334 - accuracy: 0.8001\n",
      "Epoch 38/100\n",
      "360/360 [==============================] - 1s 2ms/step - loss: 0.4336 - accuracy: 0.8001\n",
      "Epoch 39/100\n",
      "360/360 [==============================] - 1s 2ms/step - loss: 0.4324 - accuracy: 0.7989\n",
      "Epoch 40/100\n",
      "360/360 [==============================] - 1s 2ms/step - loss: 0.4323 - accuracy: 0.8041\n",
      "Epoch 41/100\n",
      "360/360 [==============================] - 1s 2ms/step - loss: 0.4305 - accuracy: 0.8005\n",
      "Epoch 42/100\n",
      "360/360 [==============================] - 1s 2ms/step - loss: 0.4313 - accuracy: 0.8029\n",
      "Epoch 43/100\n",
      "360/360 [==============================] - 1s 2ms/step - loss: 0.4305 - accuracy: 0.8017\n",
      "Epoch 44/100\n",
      "360/360 [==============================] - 1s 2ms/step - loss: 0.4265 - accuracy: 0.8037\n",
      "Epoch 45/100\n",
      "360/360 [==============================] - 1s 2ms/step - loss: 0.4280 - accuracy: 0.8043\n",
      "Epoch 46/100\n",
      "360/360 [==============================] - 1s 2ms/step - loss: 0.4282 - accuracy: 0.8060\n",
      "Epoch 47/100\n",
      "360/360 [==============================] - 1s 2ms/step - loss: 0.4292 - accuracy: 0.8023\n",
      "Epoch 48/100\n",
      "360/360 [==============================] - 1s 2ms/step - loss: 0.4272 - accuracy: 0.8058\n",
      "Epoch 49/100\n",
      "360/360 [==============================] - 1s 2ms/step - loss: 0.4245 - accuracy: 0.8043\n",
      "Epoch 50/100\n",
      "360/360 [==============================] - 1s 2ms/step - loss: 0.4287 - accuracy: 0.8022\n",
      "Epoch 51/100\n",
      "360/360 [==============================] - 1s 2ms/step - loss: 0.4262 - accuracy: 0.8058\n",
      "Epoch 52/100\n",
      "360/360 [==============================] - 1s 2ms/step - loss: 0.4238 - accuracy: 0.8057\n",
      "Epoch 53/100\n",
      "360/360 [==============================] - 1s 3ms/step - loss: 0.4248 - accuracy: 0.8052\n",
      "Epoch 54/100\n",
      "360/360 [==============================] - 1s 3ms/step - loss: 0.4232 - accuracy: 0.8074\n",
      "Epoch 55/100\n",
      "360/360 [==============================] - 1s 3ms/step - loss: 0.4230 - accuracy: 0.8069\n",
      "Epoch 56/100\n",
      "360/360 [==============================] - 1s 3ms/step - loss: 0.4216 - accuracy: 0.8090\n",
      "Epoch 57/100\n",
      "360/360 [==============================] - 1s 3ms/step - loss: 0.4238 - accuracy: 0.8073\n",
      "Epoch 58/100\n",
      "360/360 [==============================] - 1s 2ms/step - loss: 0.4230 - accuracy: 0.8062\n",
      "Epoch 59/100\n",
      "360/360 [==============================] - 1s 3ms/step - loss: 0.4239 - accuracy: 0.8083\n",
      "Epoch 60/100\n",
      "360/360 [==============================] - 1s 3ms/step - loss: 0.4220 - accuracy: 0.8076\n",
      "Epoch 61/100\n",
      "360/360 [==============================] - 1s 3ms/step - loss: 0.4228 - accuracy: 0.8057\n",
      "Epoch 62/100\n",
      "360/360 [==============================] - 1s 2ms/step - loss: 0.4208 - accuracy: 0.8075\n",
      "Epoch 63/100\n",
      "360/360 [==============================] - 1s 2ms/step - loss: 0.4199 - accuracy: 0.8073\n",
      "Epoch 64/100\n",
      "360/360 [==============================] - 1s 3ms/step - loss: 0.4192 - accuracy: 0.8094\n",
      "Epoch 65/100\n",
      "360/360 [==============================] - 1s 3ms/step - loss: 0.4202 - accuracy: 0.8078\n",
      "Epoch 66/100\n",
      "360/360 [==============================] - 1s 3ms/step - loss: 0.4212 - accuracy: 0.8070\n",
      "Epoch 67/100\n",
      "360/360 [==============================] - 1s 3ms/step - loss: 0.4204 - accuracy: 0.8072\n",
      "Epoch 68/100\n",
      "360/360 [==============================] - 1s 3ms/step - loss: 0.4217 - accuracy: 0.8082\n",
      "Epoch 69/100\n",
      "360/360 [==============================] - 1s 3ms/step - loss: 0.4203 - accuracy: 0.8092\n",
      "Epoch 70/100\n",
      "360/360 [==============================] - 1s 3ms/step - loss: 0.4180 - accuracy: 0.8105\n",
      "Epoch 71/100\n",
      "360/360 [==============================] - 1s 3ms/step - loss: 0.4201 - accuracy: 0.8086\n",
      "Epoch 72/100\n",
      "360/360 [==============================] - 1s 3ms/step - loss: 0.4174 - accuracy: 0.8106\n",
      "Epoch 73/100\n",
      "360/360 [==============================] - 1s 3ms/step - loss: 0.4196 - accuracy: 0.8072\n",
      "Epoch 74/100\n",
      "360/360 [==============================] - 1s 2ms/step - loss: 0.4206 - accuracy: 0.8079\n",
      "Epoch 75/100\n",
      "360/360 [==============================] - 1s 2ms/step - loss: 0.4169 - accuracy: 0.8085\n",
      "Epoch 76/100\n",
      "360/360 [==============================] - 1s 3ms/step - loss: 0.4174 - accuracy: 0.8110\n",
      "Epoch 77/100\n",
      "360/360 [==============================] - 1s 2ms/step - loss: 0.4183 - accuracy: 0.8092\n",
      "Epoch 78/100\n",
      "360/360 [==============================] - 1s 3ms/step - loss: 0.4151 - accuracy: 0.8106\n",
      "Epoch 79/100\n",
      "360/360 [==============================] - 1s 3ms/step - loss: 0.4151 - accuracy: 0.8110\n",
      "Epoch 80/100\n",
      "360/360 [==============================] - 1s 3ms/step - loss: 0.4165 - accuracy: 0.8114\n",
      "Epoch 81/100\n",
      "360/360 [==============================] - 1s 2ms/step - loss: 0.4161 - accuracy: 0.8084\n",
      "Epoch 82/100\n",
      "360/360 [==============================] - 1s 2ms/step - loss: 0.4187 - accuracy: 0.8091\n",
      "Epoch 83/100\n",
      "360/360 [==============================] - 1s 2ms/step - loss: 0.4176 - accuracy: 0.8071\n",
      "Epoch 84/100\n",
      "360/360 [==============================] - 1s 2ms/step - loss: 0.4165 - accuracy: 0.8102\n",
      "Epoch 85/100\n",
      "360/360 [==============================] - 1s 2ms/step - loss: 0.4167 - accuracy: 0.8101\n",
      "Epoch 86/100\n",
      "360/360 [==============================] - 1s 2ms/step - loss: 0.4163 - accuracy: 0.8100\n",
      "Epoch 87/100\n",
      "360/360 [==============================] - 1s 2ms/step - loss: 0.4167 - accuracy: 0.8097\n",
      "Epoch 88/100\n",
      "360/360 [==============================] - 1s 2ms/step - loss: 0.4140 - accuracy: 0.8116\n",
      "Epoch 89/100\n",
      "360/360 [==============================] - 1s 2ms/step - loss: 0.4169 - accuracy: 0.8082\n",
      "Epoch 90/100\n",
      "360/360 [==============================] - 1s 2ms/step - loss: 0.4154 - accuracy: 0.8089\n",
      "Epoch 91/100\n",
      "360/360 [==============================] - 1s 2ms/step - loss: 0.4131 - accuracy: 0.8102\n",
      "Epoch 92/100\n",
      "360/360 [==============================] - 1s 2ms/step - loss: 0.4151 - accuracy: 0.8122\n",
      "Epoch 93/100\n",
      "360/360 [==============================] - 1s 2ms/step - loss: 0.4130 - accuracy: 0.8119\n",
      "Epoch 94/100\n",
      "360/360 [==============================] - 1s 2ms/step - loss: 0.4137 - accuracy: 0.8118\n",
      "Epoch 95/100\n",
      "360/360 [==============================] - 1s 2ms/step - loss: 0.4144 - accuracy: 0.8120\n",
      "Epoch 96/100\n",
      "360/360 [==============================] - 1s 2ms/step - loss: 0.4119 - accuracy: 0.8123\n",
      "Epoch 97/100\n",
      "360/360 [==============================] - 1s 2ms/step - loss: 0.4122 - accuracy: 0.8136\n",
      "Epoch 98/100\n",
      "360/360 [==============================] - 1s 2ms/step - loss: 0.4125 - accuracy: 0.8133\n",
      "Epoch 99/100\n",
      "360/360 [==============================] - 1s 2ms/step - loss: 0.4150 - accuracy: 0.8115\n",
      "Epoch 100/100\n",
      "360/360 [==============================] - 1s 2ms/step - loss: 0.4146 - accuracy: 0.8112\n"
     ]
    }
   ],
   "source": [
    "classifier = KerasClassifier(build_fn=create_model)\n",
    "cv_ann = GridSearchCV(estimator=classifier, param_grid=param_ann, n_jobs=-1, cv=3)\n",
    "ann_model_cv = cv_ann.fit(train_smote_X, train_smote_Y, batch_size=64, epochs=100)"
   ]
  },
  {
   "cell_type": "code",
   "execution_count": 27,
   "metadata": {},
   "outputs": [
    {
     "data": {
      "text/plain": [
       "{'optimizer': 'Adamax'}"
      ]
     },
     "execution_count": 27,
     "metadata": {},
     "output_type": "execute_result"
    }
   ],
   "source": [
    "cv_ann.best_params_"
   ]
  },
  {
   "cell_type": "code",
   "execution_count": 28,
   "metadata": {},
   "outputs": [
    {
     "data": {
      "text/plain": [
       "0.8088811291946776"
      ]
     },
     "execution_count": 28,
     "metadata": {},
     "output_type": "execute_result"
    }
   ],
   "source": [
    "pred_ann_cv= cv_ann.predict(test_smote_X)\n",
    "from sklearn.metrics import roc_auc_score\n",
    "roc_auc_score(test_smote_Y, pred_ann_cv)"
   ]
  },
  {
   "cell_type": "code",
   "execution_count": 29,
   "metadata": {},
   "outputs": [
    {
     "name": "stdout",
     "output_type": "stream",
     "text": [
      "              precision    recall  f1-score   support\n",
      "\n",
      "           0       0.83      0.78      0.81      2923\n",
      "           1       0.79      0.84      0.81      2830\n",
      "\n",
      "    accuracy                           0.81      5753\n",
      "   macro avg       0.81      0.81      0.81      5753\n",
      "weighted avg       0.81      0.81      0.81      5753\n",
      "\n"
     ]
    }
   ],
   "source": [
    "from sklearn.metrics import classification_report\n",
    "print(classification_report(test_smote_Y, pred_ann_cv))"
   ]
  },
  {
   "cell_type": "markdown",
   "metadata": {},
   "source": [
    "# With no cv for graph"
   ]
  },
  {
   "cell_type": "code",
   "execution_count": 18,
   "metadata": {},
   "outputs": [],
   "source": [
    "train_X_33, val_X_3, train_Y_33, val_Y_3 = train_test_split(train_smote_X, train_smote_Y, test_size=0.2, random_state=111)"
   ]
  },
  {
   "cell_type": "code",
   "execution_count": 77,
   "metadata": {},
   "outputs": [],
   "source": [
    "classifier2 = Sequential()\n",
    "classifier2.add(Dense(units = 16, input_dim = 54, activation = 'relu'))\n",
    "classifier2.add(Dense(units = 24, activation = 'relu'))\n",
    "classifier2.add(Dropout(0.25))\n",
    "classifier2.add(Dense(units = 20, activation = 'relu'))\n",
    "classifier2.add(Dense(units = 24, activation = 'relu'))\n",
    "classifier2.add(Dense(units = 1, activation = 'sigmoid'))\n",
    "classifier2.compile(optimizer = 'adamax', loss = 'binary_crossentropy',\n",
    "                   metrics =['accuracy'])"
   ]
  },
  {
   "cell_type": "code",
   "execution_count": 66,
   "metadata": {},
   "outputs": [],
   "source": [
    "classifier2=classifier"
   ]
  },
  {
   "cell_type": "code",
   "execution_count": 78,
   "metadata": {},
   "outputs": [
    {
     "name": "stdout",
     "output_type": "stream",
     "text": [
      "Epoch 1/100\n",
      "288/288 - 1s - loss: 0.9882 - accuracy: 0.4968 - val_loss: 0.6972 - val_accuracy: 0.5067\n",
      "Epoch 2/100\n",
      "288/288 - 0s - loss: 0.7273 - accuracy: 0.4945 - val_loss: 0.6940 - val_accuracy: 0.5291\n",
      "Epoch 3/100\n",
      "288/288 - 0s - loss: 0.7096 - accuracy: 0.5055 - val_loss: 0.6987 - val_accuracy: 0.5106\n",
      "Epoch 4/100\n",
      "288/288 - 1s - loss: 0.7020 - accuracy: 0.5199 - val_loss: 0.6899 - val_accuracy: 0.5372\n",
      "Epoch 5/100\n",
      "288/288 - 0s - loss: 0.6975 - accuracy: 0.5269 - val_loss: 0.6861 - val_accuracy: 0.6060\n",
      "Epoch 6/100\n",
      "288/288 - 0s - loss: 0.6938 - accuracy: 0.5489 - val_loss: 0.6787 - val_accuracy: 0.6204\n",
      "Epoch 7/100\n",
      "288/288 - 0s - loss: 0.6795 - accuracy: 0.5912 - val_loss: 0.6566 - val_accuracy: 0.6628\n",
      "Epoch 8/100\n",
      "288/288 - 0s - loss: 0.6566 - accuracy: 0.6319 - val_loss: 0.6385 - val_accuracy: 0.6569\n",
      "Epoch 9/100\n",
      "288/288 - 0s - loss: 0.6271 - accuracy: 0.6580 - val_loss: 0.6012 - val_accuracy: 0.6845\n",
      "Epoch 10/100\n",
      "288/288 - 1s - loss: 0.6014 - accuracy: 0.6857 - val_loss: 0.5756 - val_accuracy: 0.7095\n",
      "Epoch 11/100\n",
      "288/288 - 0s - loss: 0.5757 - accuracy: 0.7072 - val_loss: 0.5618 - val_accuracy: 0.7266\n",
      "Epoch 12/100\n",
      "288/288 - 0s - loss: 0.5572 - accuracy: 0.7230 - val_loss: 0.5442 - val_accuracy: 0.7458\n",
      "Epoch 13/100\n",
      "288/288 - 0s - loss: 0.5408 - accuracy: 0.7367 - val_loss: 0.5358 - val_accuracy: 0.7412\n",
      "Epoch 14/100\n",
      "288/288 - 0s - loss: 0.5289 - accuracy: 0.7466 - val_loss: 0.5358 - val_accuracy: 0.7475\n",
      "Epoch 15/100\n",
      "288/288 - 0s - loss: 0.5179 - accuracy: 0.7530 - val_loss: 0.5185 - val_accuracy: 0.7597\n",
      "Epoch 16/100\n",
      "288/288 - 0s - loss: 0.5080 - accuracy: 0.7591 - val_loss: 0.5006 - val_accuracy: 0.7642\n",
      "Epoch 17/100\n",
      "288/288 - 0s - loss: 0.4997 - accuracy: 0.7659 - val_loss: 0.4919 - val_accuracy: 0.7705\n",
      "Epoch 18/100\n",
      "288/288 - 0s - loss: 0.4935 - accuracy: 0.7685 - val_loss: 0.4867 - val_accuracy: 0.7736\n",
      "Epoch 19/100\n",
      "288/288 - 0s - loss: 0.4805 - accuracy: 0.7760 - val_loss: 0.4781 - val_accuracy: 0.7773\n",
      "Epoch 20/100\n",
      "288/288 - 0s - loss: 0.4755 - accuracy: 0.7788 - val_loss: 0.4968 - val_accuracy: 0.7677\n",
      "Epoch 21/100\n",
      "288/288 - 0s - loss: 0.4711 - accuracy: 0.7802 - val_loss: 0.4771 - val_accuracy: 0.7727\n",
      "Epoch 22/100\n",
      "288/288 - 0s - loss: 0.4663 - accuracy: 0.7860 - val_loss: 0.4670 - val_accuracy: 0.7816\n",
      "Epoch 23/100\n",
      "288/288 - 0s - loss: 0.4626 - accuracy: 0.7862 - val_loss: 0.4630 - val_accuracy: 0.7842\n",
      "Epoch 24/100\n",
      "288/288 - 0s - loss: 0.4613 - accuracy: 0.7836 - val_loss: 0.4597 - val_accuracy: 0.7853\n",
      "Epoch 25/100\n",
      "288/288 - 0s - loss: 0.4564 - accuracy: 0.7856 - val_loss: 0.4620 - val_accuracy: 0.7825\n",
      "Epoch 26/100\n",
      "288/288 - 0s - loss: 0.4564 - accuracy: 0.7909 - val_loss: 0.4555 - val_accuracy: 0.7825\n",
      "Epoch 27/100\n",
      "288/288 - 0s - loss: 0.4526 - accuracy: 0.7918 - val_loss: 0.4514 - val_accuracy: 0.7875\n",
      "Epoch 28/100\n",
      "288/288 - 0s - loss: 0.4484 - accuracy: 0.7949 - val_loss: 0.4522 - val_accuracy: 0.7881\n",
      "Epoch 29/100\n",
      "288/288 - 0s - loss: 0.4490 - accuracy: 0.7944 - val_loss: 0.4586 - val_accuracy: 0.7844\n",
      "Epoch 30/100\n",
      "288/288 - 0s - loss: 0.4477 - accuracy: 0.7944 - val_loss: 0.4581 - val_accuracy: 0.7823\n",
      "Epoch 31/100\n",
      "288/288 - 0s - loss: 0.4481 - accuracy: 0.7932 - val_loss: 0.4560 - val_accuracy: 0.7818\n",
      "Epoch 32/100\n",
      "288/288 - 0s - loss: 0.4479 - accuracy: 0.7923 - val_loss: 0.4558 - val_accuracy: 0.7818\n",
      "Epoch 33/100\n",
      "288/288 - 0s - loss: 0.4443 - accuracy: 0.7953 - val_loss: 0.4502 - val_accuracy: 0.7866\n",
      "Epoch 34/100\n",
      "288/288 - 0s - loss: 0.4418 - accuracy: 0.7958 - val_loss: 0.4505 - val_accuracy: 0.7855\n",
      "Epoch 35/100\n",
      "288/288 - 0s - loss: 0.4392 - accuracy: 0.7985 - val_loss: 0.4458 - val_accuracy: 0.7901\n",
      "Epoch 36/100\n",
      "288/288 - 0s - loss: 0.4403 - accuracy: 0.7955 - val_loss: 0.4659 - val_accuracy: 0.7760\n",
      "Epoch 37/100\n",
      "288/288 - 0s - loss: 0.4406 - accuracy: 0.7957 - val_loss: 0.4508 - val_accuracy: 0.7901\n",
      "Epoch 38/100\n",
      "288/288 - 0s - loss: 0.4386 - accuracy: 0.7969 - val_loss: 0.4497 - val_accuracy: 0.7899\n",
      "Epoch 39/100\n",
      "288/288 - 0s - loss: 0.4384 - accuracy: 0.7984 - val_loss: 0.4449 - val_accuracy: 0.7910\n",
      "Epoch 40/100\n",
      "288/288 - 0s - loss: 0.4375 - accuracy: 0.7977 - val_loss: 0.4458 - val_accuracy: 0.7881\n",
      "Epoch 41/100\n",
      "288/288 - 0s - loss: 0.4354 - accuracy: 0.7999 - val_loss: 0.4483 - val_accuracy: 0.7901\n",
      "Epoch 42/100\n",
      "288/288 - 0s - loss: 0.4375 - accuracy: 0.7977 - val_loss: 0.4514 - val_accuracy: 0.7892\n",
      "Epoch 43/100\n",
      "288/288 - 0s - loss: 0.4339 - accuracy: 0.8021 - val_loss: 0.4444 - val_accuracy: 0.7907\n",
      "Epoch 44/100\n",
      "288/288 - 0s - loss: 0.4356 - accuracy: 0.7978 - val_loss: 0.4432 - val_accuracy: 0.7947\n",
      "Epoch 45/100\n",
      "288/288 - 0s - loss: 0.4341 - accuracy: 0.8008 - val_loss: 0.4467 - val_accuracy: 0.7929\n",
      "Epoch 46/100\n",
      "288/288 - 0s - loss: 0.4348 - accuracy: 0.7989 - val_loss: 0.4421 - val_accuracy: 0.7905\n",
      "Epoch 47/100\n",
      "288/288 - 0s - loss: 0.4341 - accuracy: 0.7987 - val_loss: 0.4432 - val_accuracy: 0.7931\n",
      "Epoch 48/100\n",
      "288/288 - 0s - loss: 0.4328 - accuracy: 0.8017 - val_loss: 0.4452 - val_accuracy: 0.7936\n",
      "Epoch 49/100\n",
      "288/288 - 0s - loss: 0.4328 - accuracy: 0.8019 - val_loss: 0.4456 - val_accuracy: 0.7912\n",
      "Epoch 50/100\n",
      "288/288 - 0s - loss: 0.4311 - accuracy: 0.8017 - val_loss: 0.4448 - val_accuracy: 0.7940\n",
      "Epoch 51/100\n",
      "288/288 - 0s - loss: 0.4335 - accuracy: 0.8005 - val_loss: 0.4505 - val_accuracy: 0.7870\n",
      "Epoch 52/100\n",
      "288/288 - 0s - loss: 0.4328 - accuracy: 0.8012 - val_loss: 0.4414 - val_accuracy: 0.7966\n",
      "Epoch 53/100\n",
      "288/288 - 0s - loss: 0.4280 - accuracy: 0.8038 - val_loss: 0.4430 - val_accuracy: 0.7940\n",
      "Epoch 54/100\n",
      "288/288 - 0s - loss: 0.4317 - accuracy: 0.7998 - val_loss: 0.4455 - val_accuracy: 0.7910\n",
      "Epoch 55/100\n",
      "288/288 - 0s - loss: 0.4327 - accuracy: 0.8002 - val_loss: 0.4417 - val_accuracy: 0.7949\n",
      "Epoch 56/100\n",
      "288/288 - 0s - loss: 0.4278 - accuracy: 0.8019 - val_loss: 0.4446 - val_accuracy: 0.7890\n",
      "Epoch 57/100\n",
      "288/288 - 0s - loss: 0.4287 - accuracy: 0.8028 - val_loss: 0.4411 - val_accuracy: 0.7912\n",
      "Epoch 58/100\n",
      "288/288 - 0s - loss: 0.4292 - accuracy: 0.8013 - val_loss: 0.4528 - val_accuracy: 0.7890\n",
      "Epoch 59/100\n",
      "288/288 - 0s - loss: 0.4269 - accuracy: 0.8026 - val_loss: 0.4451 - val_accuracy: 0.7903\n",
      "Epoch 60/100\n",
      "288/288 - 0s - loss: 0.4265 - accuracy: 0.8034 - val_loss: 0.4612 - val_accuracy: 0.7849\n",
      "Epoch 61/100\n",
      "288/288 - 0s - loss: 0.4255 - accuracy: 0.8071 - val_loss: 0.4563 - val_accuracy: 0.7907\n",
      "Epoch 62/100\n",
      "288/288 - 0s - loss: 0.4250 - accuracy: 0.8058 - val_loss: 0.4448 - val_accuracy: 0.7907\n",
      "Epoch 63/100\n",
      "288/288 - 0s - loss: 0.4279 - accuracy: 0.8013 - val_loss: 0.4438 - val_accuracy: 0.7920\n",
      "Epoch 64/100\n",
      "288/288 - 0s - loss: 0.4282 - accuracy: 0.8027 - val_loss: 0.4428 - val_accuracy: 0.7957\n",
      "Epoch 65/100\n",
      "288/288 - 0s - loss: 0.4244 - accuracy: 0.8047 - val_loss: 0.4462 - val_accuracy: 0.7897\n",
      "Epoch 66/100\n",
      "288/288 - 0s - loss: 0.4260 - accuracy: 0.8045 - val_loss: 0.4378 - val_accuracy: 0.7944\n",
      "Epoch 67/100\n",
      "288/288 - 0s - loss: 0.4227 - accuracy: 0.8076 - val_loss: 0.4452 - val_accuracy: 0.7914\n",
      "Epoch 68/100\n",
      "288/288 - 0s - loss: 0.4228 - accuracy: 0.8077 - val_loss: 0.4376 - val_accuracy: 0.7949\n",
      "Epoch 69/100\n",
      "288/288 - 0s - loss: 0.4250 - accuracy: 0.8034 - val_loss: 0.4399 - val_accuracy: 0.7925\n",
      "Epoch 70/100\n",
      "288/288 - 0s - loss: 0.4209 - accuracy: 0.8049 - val_loss: 0.4605 - val_accuracy: 0.7775\n",
      "Epoch 71/100\n",
      "288/288 - 0s - loss: 0.4247 - accuracy: 0.8038 - val_loss: 0.4399 - val_accuracy: 0.7955\n",
      "Epoch 72/100\n",
      "288/288 - 0s - loss: 0.4233 - accuracy: 0.8069 - val_loss: 0.4412 - val_accuracy: 0.7918\n",
      "Epoch 73/100\n",
      "288/288 - 0s - loss: 0.4192 - accuracy: 0.8059 - val_loss: 0.4566 - val_accuracy: 0.7844\n",
      "Epoch 74/100\n",
      "288/288 - 0s - loss: 0.4210 - accuracy: 0.8061 - val_loss: 0.4370 - val_accuracy: 0.7940\n",
      "Epoch 75/100\n",
      "288/288 - 0s - loss: 0.4220 - accuracy: 0.8069 - val_loss: 0.4371 - val_accuracy: 0.7957\n",
      "Epoch 76/100\n",
      "288/288 - 0s - loss: 0.4203 - accuracy: 0.8066 - val_loss: 0.4594 - val_accuracy: 0.7779\n",
      "Epoch 77/100\n",
      "288/288 - 0s - loss: 0.4198 - accuracy: 0.8074 - val_loss: 0.4401 - val_accuracy: 0.7960\n",
      "Epoch 78/100\n",
      "288/288 - 0s - loss: 0.4186 - accuracy: 0.8090 - val_loss: 0.4389 - val_accuracy: 0.7925\n",
      "Epoch 79/100\n",
      "288/288 - 0s - loss: 0.4182 - accuracy: 0.8097 - val_loss: 0.4367 - val_accuracy: 0.7944\n",
      "Epoch 80/100\n",
      "288/288 - 0s - loss: 0.4201 - accuracy: 0.8071 - val_loss: 0.4469 - val_accuracy: 0.7868\n",
      "Epoch 81/100\n",
      "288/288 - 0s - loss: 0.4187 - accuracy: 0.8076 - val_loss: 0.4406 - val_accuracy: 0.7931\n"
     ]
    },
    {
     "name": "stdout",
     "output_type": "stream",
     "text": [
      "Epoch 82/100\n",
      "288/288 - 0s - loss: 0.4203 - accuracy: 0.8078 - val_loss: 0.4376 - val_accuracy: 0.7927\n",
      "Epoch 83/100\n",
      "288/288 - 0s - loss: 0.4185 - accuracy: 0.8069 - val_loss: 0.4409 - val_accuracy: 0.7916\n",
      "Epoch 84/100\n",
      "288/288 - 0s - loss: 0.4188 - accuracy: 0.8089 - val_loss: 0.4365 - val_accuracy: 0.7960\n",
      "Epoch 85/100\n",
      "288/288 - 0s - loss: 0.4205 - accuracy: 0.8086 - val_loss: 0.4426 - val_accuracy: 0.7936\n",
      "Epoch 86/100\n",
      "288/288 - 0s - loss: 0.4158 - accuracy: 0.8090 - val_loss: 0.4481 - val_accuracy: 0.7886\n",
      "Epoch 87/100\n",
      "288/288 - 0s - loss: 0.4161 - accuracy: 0.8097 - val_loss: 0.4381 - val_accuracy: 0.7942\n",
      "Epoch 88/100\n",
      "288/288 - 0s - loss: 0.4178 - accuracy: 0.8093 - val_loss: 0.4453 - val_accuracy: 0.7862\n",
      "Epoch 89/100\n",
      "288/288 - 0s - loss: 0.4160 - accuracy: 0.8114 - val_loss: 0.4370 - val_accuracy: 0.7938\n",
      "Epoch 90/100\n",
      "288/288 - 0s - loss: 0.4175 - accuracy: 0.8084 - val_loss: 0.4417 - val_accuracy: 0.7931\n",
      "Epoch 91/100\n",
      "288/288 - 0s - loss: 0.4190 - accuracy: 0.8094 - val_loss: 0.4494 - val_accuracy: 0.7862\n",
      "Epoch 92/100\n",
      "288/288 - 0s - loss: 0.4163 - accuracy: 0.8100 - val_loss: 0.4385 - val_accuracy: 0.7879\n",
      "Epoch 93/100\n",
      "288/288 - 0s - loss: 0.4163 - accuracy: 0.8074 - val_loss: 0.4431 - val_accuracy: 0.7890\n",
      "Epoch 94/100\n",
      "288/288 - 0s - loss: 0.4148 - accuracy: 0.8113 - val_loss: 0.4410 - val_accuracy: 0.7866\n",
      "Epoch 95/100\n",
      "288/288 - 0s - loss: 0.4137 - accuracy: 0.8103 - val_loss: 0.4563 - val_accuracy: 0.7829\n",
      "Epoch 96/100\n",
      "288/288 - 0s - loss: 0.4149 - accuracy: 0.8113 - val_loss: 0.4744 - val_accuracy: 0.7777\n",
      "Epoch 97/100\n",
      "288/288 - 0s - loss: 0.4158 - accuracy: 0.8095 - val_loss: 0.4522 - val_accuracy: 0.7838\n",
      "Epoch 98/100\n",
      "288/288 - 0s - loss: 0.4160 - accuracy: 0.8094 - val_loss: 0.4685 - val_accuracy: 0.7725\n",
      "Epoch 99/100\n",
      "288/288 - 0s - loss: 0.4137 - accuracy: 0.8111 - val_loss: 0.4320 - val_accuracy: 0.7966\n",
      "Epoch 100/100\n",
      "288/288 - 0s - loss: 0.4140 - accuracy: 0.8134 - val_loss: 0.4853 - val_accuracy: 0.7668\n"
     ]
    }
   ],
   "source": [
    "#SMOTE\n",
    "ann_model3 = classifier2.fit(train_X_33, train_Y_33,\n",
    "                           batch_size = 64, epochs = 100, verbose = 2, validation_data=(val_X_3, val_Y_3))"
   ]
  },
  {
   "cell_type": "code",
   "execution_count": 89,
   "metadata": {},
   "outputs": [
    {
     "data": {
      "text/plain": [
       "0.7830281706316058"
      ]
     },
     "execution_count": 89,
     "metadata": {},
     "output_type": "execute_result"
    }
   ],
   "source": [
    "pred_ann4 = classifier2.predict_classes(test_smote_X)\n",
    "from sklearn.metrics import roc_auc_score\n",
    "roc_auc_score(test_smote_Y, pred_ann4)"
   ]
  },
  {
   "cell_type": "code",
   "execution_count": 90,
   "metadata": {},
   "outputs": [
    {
     "name": "stdout",
     "output_type": "stream",
     "text": [
      "              precision    recall  f1-score   support\n",
      "\n",
      "           0       0.86      0.68      0.76      2923\n",
      "           1       0.73      0.89      0.80      2830\n",
      "\n",
      "    accuracy                           0.78      5753\n",
      "   macro avg       0.79      0.78      0.78      5753\n",
      "weighted avg       0.80      0.78      0.78      5753\n",
      "\n"
     ]
    }
   ],
   "source": [
    "from sklearn.metrics import classification_report\n",
    "print(classification_report(test_smote_Y, pred_ann4))"
   ]
  },
  {
   "cell_type": "code",
   "execution_count": 44,
   "metadata": {},
   "outputs": [
    {
     "data": {
      "application/vnd.jupyter.widget-view+json": {
       "model_id": "606d77961a03406385678248bfb39714",
       "version_major": 2,
       "version_minor": 0
      },
      "text/plain": [
       "HBox(children=(HTML(value=''), FloatProgress(value=0.0, max=20.0), HTML(value='')))"
      ]
     },
     "metadata": {},
     "output_type": "display_data"
    },
    {
     "name": "stdout",
     "output_type": "stream",
     "text": [
      "\n"
     ]
    }
   ],
   "source": [
    "import shap\n",
    "explainer = shap.KernelExplainer(cv_ann.predict, train_smote_X.iloc[:100, :])\n",
    "shap_values = explainer.shap_values(test_smote_X.iloc[:20,:])"
   ]
  },
  {
   "cell_type": "code",
   "execution_count": 45,
   "metadata": {},
   "outputs": [
    {
     "data": {
      "image/png": "[encoded data removed]",
      "text/plain": [
       "<Figure size 432x432 with 1 Axes>"
      ]
     },
     "metadata": {
      "needs_background": "light"
     },
     "output_type": "display_data"
    }
   ],
   "source": [
    "grph = shap.summary_plot(shap_values, features=train_smote_X, feature_names=train_smote_X.columns, \n",
    "                         max_display = 10, plot_size = (6,6))"
   ]
  },
  {
   "cell_type": "code",
   "execution_count": 101,
   "metadata": {},
   "outputs": [
    {
     "data": {
      "image/png": "[encoded data removed]",
      "text/plain": [
       "<Figure size 432x288 with 2 Axes>"
      ]
     },
     "metadata": {
      "needs_background": "light"
     },
     "output_type": "display_data"
    }
   ],
   "source": [
    "from sklearn.metrics import confusion_matrix \n",
    "\n",
    "CF_ann=confusion_matrix(test_smote_Y, pred_ann_cv)\n",
    "\n",
    "sns.heatmap(CF_ann, annot=True, cmap = 'Reds', fmt = 'g') \n",
    "plt.title('Artificial Neural Network') \n",
    "plt.savefig('ann')"
   ]
  },
  {
   "cell_type": "code",
   "execution_count": 96,
   "metadata": {},
   "outputs": [
    {
     "data": {
      "image/png": "[encoded data removed]",
      "text/plain": [
       "<Figure size 432x288 with 1 Axes>"
      ]
     },
     "metadata": {
      "needs_background": "light"
     },
     "output_type": "display_data"
    }
   ],
   "source": [
    "#using model without crossval for plot history\n",
    "plt.plot(ann_model3.history['accuracy']) \n",
    "plt.plot(ann_model3.history['val_accuracy']) \n",
    "plt.title('Model Accuracy') \n",
    "plt.ylabel('accuracy') \n",
    "plt.xlabel('epoch') \n",
    "plt.legend(['train', 'validate'], loc = 'upper left') \n",
    "plt.savefig('Model Accuracy') \n",
    "plt.show()"
   ]
  },
  {
   "cell_type": "code",
   "execution_count": 95,
   "metadata": {},
   "outputs": [
    {
     "data": {
      "image/png": "[encoded data removed]",
      "text/plain": [
       "<Figure size 432x288 with 1 Axes>"
      ]
     },
     "metadata": {
      "needs_background": "light"
     },
     "output_type": "display_data"
    }
   ],
   "source": [
    "plt.plot(ann_model3.history['loss']) \n",
    "plt.plot(ann_model3.history['val_loss']) \n",
    "plt.title('Model Loss') \n",
    "plt.ylabel('loss') \n",
    "plt.xlabel('epoch') \n",
    "plt.legend(['train', 'validate'], loc = 'upper left') \n",
    "plt.savefig('Model Loss') \n",
    "plt.show()"
   ]
  },
  {
   "cell_type": "markdown",
   "metadata": {},
   "source": [
    "# LBGM"
   ]
  },
  {
   "cell_type": "code",
   "execution_count": null,
   "metadata": {},
   "outputs": [],
   "source": [
    "from lightgbm import LGBMClassifier\n",
    "lgbm3 = LGBMClassifier(boosting_type='gbdt',\n",
    "                             max_depth=10,num_leaves=131,n_jobs=-1, learning_rate=0.03)\n",
    "lgbm3.fit(train_smote_X, train_smote_Y)\n",
    "pred_lgbm3 = lgbm3.predict(test_smote_X)\n",
    "from sklearn.metrics import roc_auc_score\n",
    "roc_auc_score(test_smote_Y,pred_lgbm3)"
   ]
  },
  {
   "cell_type": "code",
   "execution_count": null,
   "metadata": {},
   "outputs": [],
   "source": [
    "from sklearn.metrics import classification_report\n",
    "print(classification_report(test_smote_Y, pred_lgbm3))"
   ]
  },
  {
   "cell_type": "code",
   "execution_count": null,
   "metadata": {},
   "outputs": [],
   "source": [
    "from sklearn.metrics import confusion_matrix\n",
    "CF_lgbm=confusion_matrix(test_smote_Y, pred_lgbm3)\n",
    "\n",
    "sns.heatmap(CF_lgbm, annot=True, cmap = 'Reds', fmt = 'g')\n",
    "plt.title('LightGBM')\n",
    "plt.savefig('lgbm')"
   ]
  },
  {
   "cell_type": "code",
   "execution_count": null,
   "metadata": {},
   "outputs": [],
   "source": [
    "from lightgbm import plot_importance\n",
    "\n",
    "plot_importance(lgbm3, max_num_features=10,figsize=(6,6), grid=False,height=0.5,title='LightGBM Feature importance')\n",
    "plt.tight_layout()\n",
    "plt.savefig('lgbm fi')"
   ]
  },
  {
   "cell_type": "markdown",
   "metadata": {},
   "source": [
    "# Logistic Regression"
   ]
  },
  {
   "cell_type": "code",
   "execution_count": 81,
   "metadata": {},
   "outputs": [
    {
     "name": "stdout",
     "output_type": "stream",
     "text": [
      "Optimization terminated successfully.\n",
      "         Current function value: 0.418689\n",
      "         Iterations 7\n",
      "                           Logit Regression Results                           \n",
      "==============================================================================\n",
      "Dep. Variable:                 target   No. Observations:                23009\n",
      "Model:                          Logit   Df Residuals:                    22954\n",
      "Method:                           MLE   Df Model:                           54\n",
      "Date:                Fri, 11 Jun 2021   Pseudo R-squ.:                  0.3960\n",
      "Time:                        14:46:45   Log-Likelihood:                -9633.6\n",
      "converged:                       True   LL-Null:                       -15948.\n",
      "Covariance Type:            nonrobust   LLR p-value:                     0.000\n",
      "========================================================================================================\n",
      "                                           coef    std err          z      P>|z|      [0.025      0.975]\n",
      "--------------------------------------------------------------------------------------------------------\n",
      "const                                   11.2140      0.227     49.390      0.000      10.769      11.659\n",
      "city_development_index                  -5.6262      0.156    -36.053      0.000      -5.932      -5.320\n",
      "relevent_experience                     -0.6409      0.048    -13.492      0.000      -0.734      -0.548\n",
      "training_hours                          -0.0028      0.000     -8.624      0.000      -0.003      -0.002\n",
      "gender_Male                             -0.2646      0.070     -3.767      0.000      -0.402      -0.127\n",
      "gender_Other                            -0.5170      0.219     -2.362      0.018      -0.946      -0.088\n",
      "enrolled_university_Part time course    -0.9108      0.090    -10.146      0.000      -1.087      -0.735\n",
      "enrolled_university_no_enrollment       -0.4797      0.048     -9.954      0.000      -0.574      -0.385\n",
      "education_level_High School             -1.4452      0.072    -19.993      0.000      -1.587      -1.304\n",
      "education_level_Masters                 -0.5326      0.048    -11.092      0.000      -0.627      -0.439\n",
      "education_level_Phd                     -0.9705      0.172     -5.637      0.000      -1.308      -0.633\n",
      "education_level_Primary School          -2.1554      0.217     -9.934      0.000      -2.581      -1.730\n",
      "major_discipline_Business Degree        -1.6509      0.192     -8.577      0.000      -2.028      -1.274\n",
      "major_discipline_Humanities             -1.7920      0.161    -11.116      0.000      -2.108      -1.476\n",
      "major_discipline_No Major               -2.0787      0.235     -8.859      0.000      -2.539      -1.619\n",
      "major_discipline_Other                  -1.7480      0.186     -9.389      0.000      -2.113      -1.383\n",
      "major_discipline_STEM                   -1.2332      0.114    -10.801      0.000      -1.457      -1.009\n",
      "experience_10                           -3.1534      0.111    -28.475      0.000      -3.370      -2.936\n",
      "experience_11                           -3.1091      0.125    -24.889      0.000      -3.354      -2.864\n",
      "experience_12                           -3.5207      0.150    -23.474      0.000      -3.815      -3.227\n",
      "experience_13                           -3.2588      0.164    -19.862      0.000      -3.580      -2.937\n",
      "experience_14                           -3.2016      0.136    -23.458      0.000      -3.469      -2.934\n",
      "experience_15                           -3.3464      0.134    -24.890      0.000      -3.610      -3.083\n",
      "experience_16                           -3.5068      0.161    -21.849      0.000      -3.821      -3.192\n",
      "experience_17                           -3.3216      0.174    -19.127      0.000      -3.662      -2.981\n",
      "experience_18                           -3.5043      0.206    -16.997      0.000      -3.908      -3.100\n",
      "experience_19                           -3.1085      0.187    -16.603      0.000      -3.475      -2.742\n",
      "experience_2                            -2.9537      0.099    -29.714      0.000      -3.149      -2.759\n",
      "experience_20                           -2.9242      0.246    -11.893      0.000      -3.406      -2.442\n",
      "experience_3                            -2.8263      0.094    -30.030      0.000      -3.011      -2.642\n",
      "experience_4                            -2.9358      0.093    -31.415      0.000      -3.119      -2.753\n",
      "experience_5                            -2.9908      0.094    -31.891      0.000      -3.175      -2.807\n",
      "experience_6                            -2.9845      0.098    -30.519      0.000      -3.176      -2.793\n",
      "experience_7                            -2.8029      0.101    -27.632      0.000      -3.002      -2.604\n",
      "experience_8                            -3.1646      0.115    -27.457      0.000      -3.391      -2.939\n",
      "experience_9                            -3.2419      0.110    -29.380      0.000      -3.458      -3.026\n",
      "experience_<1                           -2.8459      0.130    -21.971      0.000      -3.100      -2.592\n",
      "experience_>20                          -2.6624      0.085    -31.213      0.000      -2.830      -2.495\n",
      "company_size_100-500                    -1.5521      0.079    -19.736      0.000      -1.706      -1.398\n",
      "company_size_1000-4999                  -1.5983      0.102    -15.684      0.000      -1.798      -1.399\n",
      "company_size_10000+                     -1.2253      0.080    -15.244      0.000      -1.383      -1.068\n",
      "company_size_50-99                      -0.3786      0.057     -6.584      0.000      -0.491      -0.266\n",
      "company_size_500-999                    -1.5995      0.119    -13.463      0.000      -1.832      -1.367\n",
      "company_size_5000-9999                  -1.5408      0.143    -10.770      0.000      -1.821      -1.260\n",
      "company_size_<10                        -1.7376      0.103    -16.942      0.000      -1.939      -1.537\n",
      "company_type_Funded Startup             -1.6016      0.133    -12.085      0.000      -1.861      -1.342\n",
      "company_type_NGO                        -1.1095      0.164     -6.754      0.000      -1.432      -0.788\n",
      "company_type_Other                      -0.7446      0.305     -2.443      0.015      -1.342      -0.147\n",
      "company_type_Public Sector              -0.7640      0.132     -5.786      0.000      -1.023      -0.505\n",
      "company_type_Pvt Ltd                    -0.5070      0.089     -5.668      0.000      -0.682      -0.332\n",
      "last_new_job_2                          -0.3105      0.057     -5.474      0.000      -0.422      -0.199\n",
      "last_new_job_3                          -0.3846      0.093     -4.155      0.000      -0.566      -0.203\n",
      "last_new_job_4                          -0.4043      0.094     -4.292      0.000      -0.589      -0.220\n",
      "last_new_job_>4                         -0.2914      0.059     -4.945      0.000      -0.407      -0.176\n",
      "last_new_job_never                      -0.9880      0.064    -15.474      0.000      -1.113      -0.863\n",
      "========================================================================================================\n"
     ]
    }
   ],
   "source": [
    "import statsmodels.api as sm \n",
    "exog = sm.add_constant(train_smote_X)\n",
    "log_reg = sm.Logit(train_smote_Y, exog).fit() \n",
    "print(log_reg.summary())"
   ]
  },
  {
   "cell_type": "code",
   "execution_count": 82,
   "metadata": {},
   "outputs": [
    {
     "name": "stdout",
     "output_type": "stream",
     "text": [
      "              precision    recall  f1-score   support\n",
      "\n",
      "          No       0.79      0.85      0.82      2923\n",
      "         Yes       0.83      0.77      0.80      2830\n",
      "\n",
      "    accuracy                           0.81      5753\n",
      "   macro avg       0.81      0.81      0.81      5753\n",
      "weighted avg       0.81      0.81      0.81      5753\n",
      "\n"
     ]
    }
   ],
   "source": [
    "pred_lg=log_reg.predict(sm.add_constant(test_smote_X))\n",
    "from sklearn.metrics import classification_report\n",
    "target_names = ['No','Yes']\n",
    "print(classification_report(test_smote_Y, np.round(pred_lg), target_names=target_names))"
   ]
  },
  {
   "cell_type": "code",
   "execution_count": 83,
   "metadata": {},
   "outputs": [
    {
     "data": {
      "text/plain": [
       "0.8078299438231451"
      ]
     },
     "execution_count": 83,
     "metadata": {},
     "output_type": "execute_result"
    }
   ],
   "source": [
    "from sklearn.metrics import roc_auc_score\n",
    "roc_auc_score(test_smote_Y,np.round(pred_lg))"
   ]
  },
  {
   "cell_type": "code",
   "execution_count": null,
   "metadata": {},
   "outputs": [],
   "source": [
    "from sklearn.metrics import confusion_matrix \n",
    "CF_lg=confusion_matrix(test_smote_Y, np.round(pred_lg))\n",
    "\n",
    "sns.heatmap(CF_lg, annot=True, cmap = 'Reds', fmt = 'g') \n",
    "plt.title('Logistic Regression') \n",
    "plt.savefig('lg')"
   ]
  },
  {
   "cell_type": "code",
   "execution_count": 84,
   "metadata": {},
   "outputs": [],
   "source": [
    "feat_imp_lg=pd.DataFrame(np.exp(log_reg.params))\n",
    "feat_imp_lg=feat_imp_lg.iloc[1:]\n",
    "feat_imp_lg.reset_index(inplace=True)\n",
    "feat_imp_lg.rename(columns={0:'Value', 'index':'Feature'},inplace=True)"
   ]
  },
  {
   "cell_type": "code",
   "execution_count": 88,
   "metadata": {},
   "outputs": [
    {
     "data": {
      "image/png": "[encoded data removed]",
      "text/plain": [
       "<Figure size 432x432 with 1 Axes>"
      ]
     },
     "metadata": {
      "needs_background": "light"
     },
     "output_type": "display_data"
    }
   ],
   "source": [
    "plt.figure(figsize=(6,6))\n",
    "sns.barplot(data = feat_imp_lg.sort_values(by= 'Value', ascending=False).head(10), x= 'Value', y = 'Feature')\n",
    "plt.title('Logistic Regression Feature Importance')\n",
    "plt.xlabel('Feature Importance')\n",
    "plt.ylabel('Features')\n",
    "plt.tight_layout()\n",
    "plt.savefig('lg fi')"
   ]
  },
  {
   "cell_type": "markdown",
   "metadata": {},
   "source": [
    "# SVM"
   ]
  },
  {
   "cell_type": "code",
   "execution_count": 89,
   "metadata": {},
   "outputs": [
    {
     "name": "stderr",
     "output_type": "stream",
     "text": [
      "\n",
      "A value is trying to be set on a copy of a slice from a DataFrame.\n",
      "Try using .loc[row_indexer,col_indexer] = value instead\n",
      "\n",
      "See the caveats in the documentation: https://pandas.pydata.org/pandas-docs/stable/user_guide/indexing.html#returning-a-view-versus-a-copy\n",
      "\n",
      "A value is trying to be set on a copy of a slice from a DataFrame.\n",
      "Try using .loc[row_indexer,col_indexer] = value instead\n",
      "\n",
      "See the caveats in the documentation: https://pandas.pydata.org/pandas-docs/stable/user_guide/indexing.html#returning-a-view-versus-a-copy\n",
      "\n",
      "A value is trying to be set on a copy of a slice from a DataFrame.\n",
      "Try using .loc[row_indexer,col_indexer] = value instead\n",
      "\n",
      "See the caveats in the documentation: https://pandas.pydata.org/pandas-docs/stable/user_guide/indexing.html#returning-a-view-versus-a-copy\n",
      "\n",
      "A value is trying to be set on a copy of a slice from a DataFrame.\n",
      "Try using .loc[row_indexer,col_indexer] = value instead\n",
      "\n",
      "See the caveats in the documentation: https://pandas.pydata.org/pandas-docs/stable/user_guide/indexing.html#returning-a-view-versus-a-copy\n"
     ]
    },
    {
     "name": "stdout",
     "output_type": "stream",
     "text": [
      "              precision    recall  f1-score   support\n",
      "\n",
      "           0       0.79      0.85      0.82      2923\n",
      "           1       0.83      0.77      0.80      2830\n",
      "\n",
      "    accuracy                           0.81      5753\n",
      "   macro avg       0.81      0.81      0.81      5753\n",
      "weighted avg       0.81      0.81      0.81      5753\n",
      "\n"
     ]
    }
   ],
   "source": [
    "from sklearn.svm import SVC\n",
    "from sklearn.metrics import accuracy_score\n",
    "svm=SVC(C= 1, gamma= 0.1, kernel= 'linear')\n",
    "\n",
    "\n",
    "from sklearn.preprocessing import StandardScaler\n",
    "\n",
    "num_col = ['city_development_index', 'training_hours']\n",
    "\n",
    "ss=StandardScaler()\n",
    "train_smote_X2 = train_smote_X\n",
    "test_smote_X2 = test_smote_X\n",
    "train_smote_X2[num_col] = ss.fit_transform(train_smote_X[num_col])\n",
    "test_smote_X2[num_col] = ss.transform(test_smote_X[num_col])\n",
    "\n",
    "svm.fit(train_smote_X2, train_smote_Y)\n",
    "pred_svm=svm.predict(test_smote_X2)\n",
    "print(classification_report(test_smote_Y,pred_svm))"
   ]
  },
  {
   "cell_type": "code",
   "execution_count": 90,
   "metadata": {},
   "outputs": [
    {
     "data": {
      "image/png": "[encoded data removed]",
      "text/plain": [
       "<Figure size 432x432 with 1 Axes>"
      ]
     },
     "metadata": {
      "needs_background": "light"
     },
     "output_type": "display_data"
    }
   ],
   "source": [
    "fimp_svm = pd.DataFrame({'Feature':train_smote_X.columns,'Value':np.exp(svm.coef_[0])})\n",
    "plt.figure(figsize=(6,6))\n",
    "sns.barplot(data = fimp_svm.sort_values(by= 'Value', ascending=False).head(10), x= 'Value', y = 'Feature')\n",
    "plt.title('Support Vector Machine Feature Importance')\n",
    "plt.xlabel('Feature Importance')\n",
    "plt.ylabel('Features')\n",
    "plt.tight_layout()\n",
    "plt.savefig('svm fi')"
   ]
  },
  {
   "cell_type": "markdown",
   "metadata": {},
   "source": [
    "# LGBM"
   ]
  },
  {
   "cell_type": "code",
   "execution_count": 115,
   "metadata": {},
   "outputs": [
    {
     "data": {
      "text/plain": [
       "GridSearchCV(cv=3,\n",
       "             estimator=LGBMClassifier(learning_rate=0.03, max_depth=10,\n",
       "                                      num_leaves=131),\n",
       "             param_grid={'n_estimators': [100, 200, 300, 400, 500, 750, 1000],\n",
       "                         'scale_pos_weight': [1, 2, 6, 12]},\n",
       "             scoring='roc_auc')"
      ]
     },
     "execution_count": 115,
     "metadata": {},
     "output_type": "execute_result"
    }
   ],
   "source": [
    "from lightgbm import LGBMClassifier\n",
    "from sklearn.model_selection import GridSearchCV\n",
    "lgbm = LGBMClassifier(boosting_type='gbdt',\n",
    "                             max_depth=10,num_leaves=131,n_jobs=-1, learning_rate=0.03)\n",
    "param_grid =  {'n_estimators' : [100,200,300,400,500,750,1000],\n",
    "                  'scale_pos_weight':[1,2,6,12]}\n",
    "\n",
    "cv_lgbm = GridSearchCV(lgbm, cv=3, param_grid=param_grid, scoring ='roc_auc')\n",
    "cv_lgbm.fit(train_smote_X, train_smote_Y)"
   ]
  },
  {
   "cell_type": "code",
   "execution_count": 117,
   "metadata": {},
   "outputs": [
    {
     "data": {
      "text/plain": [
       "{'n_estimators': 500, 'scale_pos_weight': 1}"
      ]
     },
     "execution_count": 117,
     "metadata": {},
     "output_type": "execute_result"
    }
   ],
   "source": [
    "cv_lgbm.best_params_"
   ]
  },
  {
   "cell_type": "code",
   "execution_count": 118,
   "metadata": {},
   "outputs": [
    {
     "data": {
      "text/plain": [
       "0.8385639542122969"
      ]
     },
     "execution_count": 118,
     "metadata": {},
     "output_type": "execute_result"
    }
   ],
   "source": [
    "pred_lgbm2 = cv_lgbm.predict(test_smote_X)\n",
    "from sklearn.metrics import roc_auc_score\n",
    "roc_auc_score(test_smote_Y,pred_lgbm2)"
   ]
  },
  {
   "cell_type": "code",
   "execution_count": 119,
   "metadata": {},
   "outputs": [
    {
     "name": "stdout",
     "output_type": "stream",
     "text": [
      "              precision    recall  f1-score   support\n",
      "\n",
      "           0       0.84      0.84      0.84      2923\n",
      "           1       0.83      0.84      0.84      2830\n",
      "\n",
      "    accuracy                           0.84      5753\n",
      "   macro avg       0.84      0.84      0.84      5753\n",
      "weighted avg       0.84      0.84      0.84      5753\n",
      "\n"
     ]
    }
   ],
   "source": [
    "print(classification_report(test_smote_Y, pred_lgbm2))"
   ]
  },
  {
   "cell_type": "code",
   "execution_count": 121,
   "metadata": {},
   "outputs": [
    {
     "data": {
      "image/png": "[encoded data removed]",
      "text/plain": [
       "<Figure size 432x288 with 2 Axes>"
      ]
     },
     "metadata": {
      "needs_background": "light"
     },
     "output_type": "display_data"
    }
   ],
   "source": [
    "from sklearn.metrics import confusion_matrix\n",
    "CF_lgbm=confusion_matrix(test_smote_Y, pred_lgbm2)\n",
    "\n",
    "sns.heatmap(CF_lgbm, annot=True, cmap = 'Reds', fmt = 'g')\n",
    "plt.title('LightGBM')\n",
    "plt.savefig('lgbm')"
   ]
  },
  {
   "cell_type": "code",
   "execution_count": 136,
   "metadata": {},
   "outputs": [
    {
     "name": "stdout",
     "output_type": "stream",
     "text": [
      "[LightGBM] [Warning] Unknown parameter: n_estimator\n"
     ]
    },
    {
     "data": {
      "text/plain": [
       "LGBMClassifier(learning_rate=0.03, max_depth=10, n_estimator=500,\n",
       "               num_leaves=131, scale_pos_weight=1)"
      ]
     },
     "execution_count": 136,
     "metadata": {},
     "output_type": "execute_result"
    }
   ],
   "source": [
    "from lightgbm import plot_importance\n",
    "\n",
    "lgbm2 = LGBMClassifier(boosting_type='gbdt',\n",
    "                        max_depth=10,num_leaves=131,n_jobs=-1, learning_rate=0.03, n_estimator=500,\n",
    "                      scale_pos_weight=1)\n",
    "lgbm2.fit(train_smote_X, train_smote_Y)"
   ]
  },
  {
   "cell_type": "code",
   "execution_count": 137,
   "metadata": {},
   "outputs": [
    {
     "data": {
      "text/plain": [
       "0.8221175664191275"
      ]
     },
     "execution_count": 137,
     "metadata": {},
     "output_type": "execute_result"
    }
   ],
   "source": [
    "pred_lgbm3= lgbm2.predict(test_smote_X)\n",
    "roc_auc_score(test_smote_Y,pred_lgbm3)"
   ]
  },
  {
   "cell_type": "code",
   "execution_count": 140,
   "metadata": {},
   "outputs": [
    {
     "data": {
      "image/png": "[encoded data removed]",
      "text/plain": [
       "<Figure size 432x432 with 1 Axes>"
      ]
     },
     "metadata": {
      "needs_background": "light"
     },
     "output_type": "display_data"
    }
   ],
   "source": [
    "plot_importance(lgbm2, max_num_features=10,figsize=(6,6), grid=False,height=0.5,title='LightGBM Feature importance')\n",
    "plt.tight_layout()\n",
    "plt.tight_layout()\n",
    "plt.savefig('cv_lgbm fi')"
   ]
  },
  {
   "cell_type": "markdown",
   "metadata": {},
   "source": [
    "# TPOT"
   ]
  },
  {
   "cell_type": "code",
   "execution_count": 141,
   "metadata": {},
   "outputs": [
    {
     "data": {
      "text/plain": [
       "GradientBoostingClassifier(learning_rate=0.5, max_depth=9, max_features=0.45,\n",
       "                           min_samples_leaf=18, min_samples_split=13,\n",
       "                           random_state=123, subsample=0.9500000000000001)"
      ]
     },
     "execution_count": 141,
     "metadata": {},
     "output_type": "execute_result"
    }
   ],
   "source": [
    "from sklearn.ensemble import GradientBoostingClassifier\n",
    "\n",
    "gbc = GradientBoostingClassifier(learning_rate=0.5, max_depth=9, max_features=0.45,\n",
    "                           min_samples_leaf=18, min_samples_split=13,\n",
    "                           random_state=123, subsample=0.9500000000000001)\n",
    "gbc.fit(train_smote_X, train_smote_Y)"
   ]
  },
  {
   "cell_type": "code",
   "execution_count": 142,
   "metadata": {},
   "outputs": [
    {
     "data": {
      "text/plain": [
       "0.8380307153331261"
      ]
     },
     "execution_count": 142,
     "metadata": {},
     "output_type": "execute_result"
    }
   ],
   "source": [
    "pred_tpot=gbc.predict(test_smote_X) \n",
    "roc_auc_score(test_smote_Y,pred_tpot)"
   ]
  },
  {
   "cell_type": "code",
   "execution_count": 143,
   "metadata": {},
   "outputs": [
    {
     "name": "stdout",
     "output_type": "stream",
     "text": [
      "              precision    recall  f1-score   support\n",
      "\n",
      "           0       0.84      0.85      0.84      2923\n",
      "           1       0.84      0.83      0.83      2830\n",
      "\n",
      "    accuracy                           0.84      5753\n",
      "   macro avg       0.84      0.84      0.84      5753\n",
      "weighted avg       0.84      0.84      0.84      5753\n",
      "\n"
     ]
    }
   ],
   "source": [
    "print(classification_report(test_smote_Y, pred_tpot))"
   ]
  },
  {
   "cell_type": "code",
   "execution_count": 144,
   "metadata": {},
   "outputs": [
    {
     "data": {
      "image/png": "[encoded data removed]",
      "text/plain": [
       "<Figure size 432x288 with 2 Axes>"
      ]
     },
     "metadata": {
      "needs_background": "light"
     },
     "output_type": "display_data"
    }
   ],
   "source": [
    "from sklearn.metrics import confusion_matrix \n",
    "\n",
    "CF_tpot=confusion_matrix(test_smote_Y, pred_tpot)\n",
    "\n",
    "sns.heatmap(CF_tpot, annot=True, cmap = 'Reds', fmt = 'g') \n",
    "plt.title('Tree-Based Optimization Tool') \n",
    "plt.savefig('tpot')"
   ]
  },
  {
   "cell_type": "code",
   "execution_count": 146,
   "metadata": {},
   "outputs": [
    {
     "data": {
      "image/png": "[encoded data removed]",
      "text/plain": [
       "<Figure size 432x432 with 1 Axes>"
      ]
     },
     "metadata": {
      "needs_background": "light"
     },
     "output_type": "display_data"
    }
   ],
   "source": [
    "feat_imp_tpot = pd.DataFrame({'Value':gbc.feature_importances_, 'Feature':train_smote_X.columns})\n",
    "plt.figure(figsize=(6,6))\n",
    "sns.barplot(data = feat_imp_tpot.sort_values(by= 'Value', ascending=False).head(10), x= 'Value', y = 'Feature')\n",
    "plt.title('Tree-Based Pipeline Optimization Tool Feature Importance')\n",
    "plt.xlabel('Feature Importance')\n",
    "plt.ylabel('Features')\n",
    "plt.tight_layout()\n",
    "#plt.savefig('tpot fi')"
   ]
  },
  {
   "cell_type": "markdown",
   "metadata": {},
   "source": [
    "# Random Forest"
   ]
  },
  {
   "cell_type": "code",
   "execution_count": 147,
   "metadata": {},
   "outputs": [
    {
     "data": {
      "text/plain": [
       "RandomForestClassifier(criterion='entropy', random_state=123)"
      ]
     },
     "execution_count": 147,
     "metadata": {},
     "output_type": "execute_result"
    }
   ],
   "source": [
    "from sklearn.ensemble import RandomForestClassifier\n",
    "\n",
    "rfc_2 = RandomForestClassifier(random_state=123, criterion= 'entropy', max_features= 'auto', n_estimators= 100)\n",
    "rfc_2.fit(train_smote_X, train_smote_Y)"
   ]
  },
  {
   "cell_type": "code",
   "execution_count": 148,
   "metadata": {},
   "outputs": [
    {
     "data": {
      "text/plain": [
       "0.8255041954330768"
      ]
     },
     "execution_count": 148,
     "metadata": {},
     "output_type": "execute_result"
    }
   ],
   "source": [
    "pred_rf2 = rfc_2.predict(test_smote_X)\n",
    "roc_auc_score(test_smote_Y,pred_rf2)"
   ]
  },
  {
   "cell_type": "code",
   "execution_count": 149,
   "metadata": {},
   "outputs": [
    {
     "name": "stdout",
     "output_type": "stream",
     "text": [
      "              precision    recall  f1-score   support\n",
      "\n",
      "           0       0.83      0.82      0.83      2923\n",
      "           1       0.82      0.83      0.82      2830\n",
      "\n",
      "    accuracy                           0.83      5753\n",
      "   macro avg       0.83      0.83      0.83      5753\n",
      "weighted avg       0.83      0.83      0.83      5753\n",
      "\n"
     ]
    }
   ],
   "source": [
    "print(classification_report(test_smote_Y, pred_rf2))"
   ]
  },
  {
   "cell_type": "markdown",
   "metadata": {},
   "source": [
    "# Decision Tree"
   ]
  },
  {
   "cell_type": "code",
   "execution_count": 150,
   "metadata": {},
   "outputs": [
    {
     "name": "stdout",
     "output_type": "stream",
     "text": [
      "              precision    recall  f1-score   support\n",
      "\n",
      "           0       0.82      0.73      0.77      2923\n",
      "           1       0.75      0.84      0.79      2830\n",
      "\n",
      "    accuracy                           0.78      5753\n",
      "   macro avg       0.79      0.78      0.78      5753\n",
      "weighted avg       0.79      0.78      0.78      5753\n",
      "\n"
     ]
    }
   ],
   "source": [
    "from sklearn import tree\n",
    "dtc_2 = tree.DecisionTreeClassifier(criterion= 'entropy', max_depth= 14, min_samples_split= 75)\n",
    "dtc_2.fit(train_smote_X, train_smote_Y)\n",
    "pred_dtc2=dtc_2.predict(test_smote_X)\n",
    "print(classification_report(test_smote_Y, pred_dtc2))"
   ]
  },
  {
   "cell_type": "code",
   "execution_count": 156,
   "metadata": {},
   "outputs": [
    {
     "data": {
      "image/png": "[encoded data removed]",
      "text/plain": [
       "<Figure size 576x432 with 1 Axes>"
      ]
     },
     "metadata": {
      "needs_background": "light"
     },
     "output_type": "display_data"
    }
   ],
   "source": [
    "from sklearn.metrics import roc_curve\n",
    "# Generate ROC curve values: fpr, tpr, thresholds\n",
    "fpr_lg, tpr_lg, thresholds_lg = roc_curve(test_smote_Y, pred_lg)\n",
    "fpr_ann, tpr_ann, thresholds_ann = roc_curve(test_smote_Y, pred_ann3)\n",
    "fpr_dtc, tpr_dtc, thresholds_dtc = roc_curve(test_smote_Y, pred_dtc2)\n",
    "fpr_rfc, tpr_rfc, thresholds_rfc = roc_curve(test_smote_Y, pred_rf2)\n",
    "fpr_tpot, tpr_tpot, thresholds_tpot = roc_curve(test_smote_Y, pred_tpot)\n",
    "fpr_lgbm, tpr_lgbm, thresholds_lgbm = roc_curve(test_smote_Y, pred_lgbm2)\n",
    "fpr_svm, tpr_svm, thresholds_svm = roc_curve(test_smote_Y, pred_svm)\n",
    "# Plot ROC curve\n",
    "plt.figure(figsize=(8,6))\n",
    "plt.plot([0, 1], [0, 1], 'k--')\n",
    "plt.plot(fpr_lg, tpr_lg, label = 'Logistic Regression')\n",
    "plt.plot(fpr_ann, tpr_ann, label = 'Neural Network')\n",
    "plt.plot(fpr_dtc, tpr_dtc, label = 'Decision Tree')\n",
    "plt.plot(fpr_rfc, tpr_rfc, label = 'Random Forest')\n",
    "plt.plot(fpr_tpot, tpr_tpot, label = 'Tree-Based Pipeline Otimization Tool')\n",
    "plt.plot(fpr_lgbm, tpr_lgbm, label = 'LightGBM')\n",
    "plt.plot(fpr_svm, tpr_svm, label = 'Support Vector Machine')\n",
    "plt.xlabel('False Positive Rate')\n",
    "plt.ylabel('True Positive Rate')\n",
    "plt.title('ROC Curve')\n",
    "plt.legend()\n",
    "plt.tight_layout()\n",
    "plt.savefig('roc curve')"
   ]
  },
  {
   "cell_type": "markdown",
   "metadata": {},
   "source": [
    "# Model Deployment"
   ]
  },
  {
   "cell_type": "code",
   "execution_count": null,
   "metadata": {},
   "outputs": [],
   "source": [
    "dt = pd.read_csv('aug_test.csv')\n",
    "dt"
   ]
  },
  {
   "cell_type": "code",
   "execution_count": null,
   "metadata": {},
   "outputs": [],
   "source": [
    "dt = dt.drop(columns=['city'], axis=1)\n",
    "dt= dt.replace({'relevent_experience': {'Has relevent experience': 1, 'No relevent experience': 0}})\n",
    "for col in dt:\n",
    "    if dt[col].isnull().any():\n",
    "            dt[col] = dt[col].fillna(dt[col].mode()[0])\n",
    "            \n",
    "dt['company_size'] = dt['company_size'].str.replace('10/49', '10-49')"
   ]
  },
  {
   "cell_type": "code",
   "execution_count": null,
   "metadata": {},
   "outputs": [],
   "source": [
    "nominal = ['gender','enrolled_university', 'education_level', 'major_discipline', 'experience',\n",
    "           'company_size', 'company_type', 'last_new_job']\n",
    "hasil_ohe = joblib.load('ohe.joblib')\n",
    "dt[hasil_ohe.get_feature_names(nominal)] = hasil_ohe.transform(dt[nominal]).toarray()\n",
    "dt[hasil_ohe.get_feature_names(nominal)] = dt[hasil_ohe.get_feature_names(nominal)].astype('int64')\n",
    "dt.drop(columns=nominal,inplace=True)"
   ]
  },
  {
   "cell_type": "code",
   "execution_count": null,
   "metadata": {},
   "outputs": [],
   "source": [
    "def preprocessing(dt):\n",
    "    dt = dt.drop(columns=['city'], axis=1)\n",
    "    dt= dt.replace({'relevent_experience': {'Has relevent experience': 1, 'No relevent experience': 0}})\n",
    "    for col in dt:\n",
    "        if dt[col].isnull().any():\n",
    "            dt[col] = dt[col].fillna(dt[col].mode()[0])\n",
    "    dt['company_size'] = dt['company_size'].str.replace('10/49', '10-49')\n",
    "    from sklearn.preprocessing import OneHotEncoder\n",
    "    nominal = ['gender','enrolled_university', 'education_level', 'major_discipline', 'experience',\n",
    "           'company_size', 'company_type', 'last_new_job']\n",
    "    hasil_ohe = joblib.load('ohe.joblib')\n",
    "    dt[hasil_ohe.get_feature_names(nominal)] = hasil_ohe.transform(dt[nominal]).toarray()\n",
    "    dt[hasil_ohe.get_feature_names(nominal)] = dt[hasil_ohe.get_feature_names(nominal)].astype('int64')\n",
    "    return hasil"
   ]
  },
  {
   "cell_type": "code",
   "execution_count": null,
   "metadata": {},
   "outputs": [],
   "source": [
    "dt2=dt\n",
    "dt2=dt2.drop(columns=['enrollee_id', 'target'])"
   ]
  },
  {
   "cell_type": "code",
   "execution_count": null,
   "metadata": {},
   "outputs": [],
   "source": [
    "pred_new_ann = classifier.predict(dt2)\n",
    "dt[\"target\"]=np.round(pred_new_ann)\n",
    "predict_ann=dt.loc[:,[\"enrollee_id\",\"target\"]]\n",
    "predict_ann.to_csv(\"Prediksi ANN.csv\", index=False)"
   ]
  },
  {
   "cell_type": "code",
   "execution_count": null,
   "metadata": {},
   "outputs": [],
   "source": [
    "dt2=dt\n",
    "dt2=dt2.drop(columns=['enrollee_id', 'target'])"
   ]
  },
  {
   "cell_type": "code",
   "execution_count": null,
   "metadata": {},
   "outputs": [],
   "source": [
    "pred_new_tpot = tpot.predict(dt2)\n",
    "dt[\"target\"]=np.round(pred_new_tpot)\n",
    "predict_tpot=dt.loc[:,[\"enrollee_id\",\"target\"]]\n",
    "predict_tpot.to_csv(\"Prediksi TPOT.csv\", index=False)"
   ]
  },
  {
   "cell_type": "code",
   "execution_count": null,
   "metadata": {},
   "outputs": [],
   "source": [
    "dt2=dt\n",
    "dt2=dt2.drop(columns=['enrollee_id', 'target'])"
   ]
  },
  {
   "cell_type": "code",
   "execution_count": null,
   "metadata": {},
   "outputs": [],
   "source": [
    "pred_new_lgbm = lgbm3.predict(dt2)\n",
    "dt[\"target\"]=np.round(pred_new_lgbm)\n",
    "predict_lgbm=dt.loc[:,[\"enrollee_id\",\"target\"]]\n",
    "predict_lgbm.to_csv(\"Prediksi LGBM.csv\", index=False)"
   ]
  },
  {
   "cell_type": "code",
   "execution_count": null,
   "metadata": {},
   "outputs": [],
   "source": [
    "dt2=dt\n",
    "dt2=dt2.drop(columns=['enrollee_id', 'target'])"
   ]
  },
  {
   "cell_type": "code",
   "execution_count": null,
   "metadata": {},
   "outputs": [],
   "source": [
    "pred_new_rfc = rfc_2.predict(dt2)\n",
    "dt[\"target\"]=np.round(pred_new_rfc)\n",
    "predict_rfc=dt.loc[:,[\"enrollee_id\",\"target\"]]\n",
    "predict_rfc.to_csv(\"Prediksi RFC.csv\", index=False)"
   ]
  },
  {
   "cell_type": "code",
   "execution_count": null,
   "metadata": {},
   "outputs": [],
   "source": [
    "dt2=dt\n",
    "dt2=dt2.drop(columns=['enrollee_id', 'target'])"
   ]
  },
  {
   "cell_type": "code",
   "execution_count": null,
   "metadata": {},
   "outputs": [],
   "source": [
    "pred_new_dtc = dtc_2.predict(dt2)\n",
    "dt[\"target\"]=np.round(pred_new_dtc)\n",
    "predict_dtc=dt.loc[:,[\"enrollee_id\",\"target\"]]\n",
    "predict_dtc.to_csv(\"Prediksi DTC.csv\", index=False)"
   ]
  },
  {
   "cell_type": "code",
   "execution_count": null,
   "metadata": {},
   "outputs": [],
   "source": [
    "dt2=dt\n",
    "dt2=dt2.drop(columns=['enrollee_id', 'target'])"
   ]
  },
  {
   "cell_type": "code",
   "execution_count": null,
   "metadata": {},
   "outputs": [],
   "source": [
    "pred_new_svm = svm.predict(dt2)\n",
    "dt[\"target\"]=np.round(pred_new_svm)\n",
    "predict_svm=dt.loc[:,[\"enrollee_id\",\"target\"]]\n",
    "predict_svm.to_csv(\"Prediksi SVM.csv\", index=False)"
   ]
  },
  {
   "cell_type": "code",
   "execution_count": null,
   "metadata": {},
   "outputs": [],
   "source": [
    "dt2=dt\n",
    "dt2=dt2.drop(columns=['enrollee_id', 'target'])"
   ]
  },
  {
   "cell_type": "code",
   "execution_count": null,
   "metadata": {},
   "outputs": [],
   "source": [
    "pred_new_lg = log_reg.predict(sm.add_constant(dt2))\n",
    "dt[\"target\"]=np.round(pred_new_lg)\n",
    "predict_lg=dt.loc[:,[\"enrollee_id\",\"target\"]]\n",
    "predict_lg.to_csv(\"Prediksi LG.csv\", index=False)"
   ]
  }
 ],
 "metadata": {
  "kernelspec": {
   "display_name": "Python 3",
   "language": "python",
   "name": "python3"
  },
  "language_info": {
   "codemirror_mode": {
    "name": "ipython",
    "version": 3
   },
   "file_extension": ".py",
   "mimetype": "text/x-python",
   "name": "python",
   "nbconvert_exporter": "python",
   "pygments_lexer": "ipython3",
   "version": "3.8.5"
  }
 },
 "nbformat": 4,
 "nbformat_minor": 4
}
